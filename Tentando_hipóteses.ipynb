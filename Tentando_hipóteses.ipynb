{
  "nbformat": 4,
  "nbformat_minor": 0,
  "metadata": {
    "colab": {
      "provenance": [],
      "authorship_tag": "ABX9TyN+sAGts4SNEvFG4HTucWtg",
      "include_colab_link": true
    },
    "kernelspec": {
      "name": "python3",
      "display_name": "Python 3"
    },
    "language_info": {
      "name": "python"
    }
  },
  "cells": [
    {
      "cell_type": "markdown",
      "metadata": {
        "id": "view-in-github",
        "colab_type": "text"
      },
      "source": [
        "<a href=\"https://colab.research.google.com/github/lucaspn017/Testing_hypotheses/blob/main/Tentando_hip%C3%B3teses.ipynb\" target=\"_parent\"><img src=\"https://colab.research.google.com/assets/colab-badge.svg\" alt=\"Open In Colab\"/></a>"
      ]
    },
    {
      "cell_type": "code",
      "execution_count": null,
      "metadata": {
        "id": "tiV5jXoUbdax"
      },
      "outputs": [],
      "source": [
        "import pandas as pd\n",
        "import matplotlib.pyplot as plt\n",
        "from scipy import stats\n",
        "import numpy as np\n",
        "import seaborn as sns\n",
        "\n",
        "# Conjunto de dados TechTaste\n",
        "\n",
        "df_techtaste = pd.DataFrame({'avaliacoes': [38, 44, 33, 42, 47, 33, 36, 39, 42, 36, 39, 34, 42, 42, 36, 43, 31, 35, 36, 41, 42, 30, 25, 38, 47, 36, 32, 45, 44, 45, 37, 48, 37, 36, 44, 49, 31, 45, 45, 40, 36, 50, 38, 34, 36, 42, 46, 49, 36, 34, 38, 31, 53, 40, 57, 40, 36, 42, 26, 50, 32, 43, 35, 37, 42, 30, 36, 43, 40, 43, 44, 52, 37, 51, 35, 47, 40, 50, 37, 49]})"
      ]
    },
    {
      "cell_type": "code",
      "source": [
        "contagem = df_techtaste['avaliacoes'].value_counts().sort_index()"
      ],
      "metadata": {
        "id": "lC_K5nckgM2c"
      },
      "execution_count": null,
      "outputs": []
    },
    {
      "cell_type": "markdown",
      "source": [
        "# Extraindo informações do dados da empresa Techtaste."
      ],
      "metadata": {
        "id": "XoVjpDOWO5tS"
      }
    },
    {
      "cell_type": "code",
      "source": [
        "# Desvio padrão.\n",
        "desvio_padrao = df_techtaste['avaliacoes'].std()\n",
        "\n",
        "# Erro padrão.\n",
        "erro_padrao = stats.sem(df_techtaste['avaliacoes'])\n",
        "# Outra forma.\n",
        "erro_pad = df_techtaste['avaliacoes'].std()/np.sqrt(80)\n",
        "\n",
        "# Erro padrão amostral da média.\n",
        "media = df_techtaste['avaliacoes'].mean()\n",
        "\n",
        "print(f'Desvio padrão: {desvio_padrao:.2f}\\nErro padrão: {erro_padrao:.2f}\\nMédia: {media:.2f}\\nErro padrão alternativo: {erro_pad:.2f}')\n"
      ],
      "metadata": {
        "id": "-6xIQVCOcCr7",
        "colab": {
          "base_uri": "https://localhost:8080/"
        },
        "outputId": "0248c91c-430e-4269-f760-97e29ba9bfb3"
      },
      "execution_count": null,
      "outputs": [
        {
          "output_type": "stream",
          "name": "stdout",
          "text": [
            "Desvio padrão: 6.42\n",
            "Erro padrão: 0.72\n",
            "Média: 40.02\n",
            "Erro padrão alternativo: 0.72\n"
          ]
        }
      ]
    },
    {
      "cell_type": "code",
      "source": [
        "desviopadrao = desvio_padrao/desvio_padrao*np.sqrt(80)"
      ],
      "metadata": {
        "id": "5Ft0FbT9ZReY"
      },
      "execution_count": null,
      "outputs": []
    },
    {
      "cell_type": "markdown",
      "source": [
        "# Verificando a distribuição dos dados.\n"
      ],
      "metadata": {
        "id": "md4M40j1O_RE"
      }
    },
    {
      "cell_type": "code",
      "source": [
        "plt.hist(df_techtaste, bins=30, alpha=0.7, color='orange')\n",
        "plt.title('Avaliação dos clientes',fontsize=17)\n",
        "plt.ylabel('Frequência', fontsize=13)\n",
        "plt.xlabel('Notas', fontsize=13)\n",
        "plt.show()"
      ],
      "metadata": {
        "colab": {
          "base_uri": "https://localhost:8080/",
          "height": 481
        },
        "id": "UwUqGP4BgkYh",
        "outputId": "4c1507b7-b387-41f3-ad71-3164081358bd"
      },
      "execution_count": null,
      "outputs": [
        {
          "output_type": "display_data",
          "data": {
            "text/plain": [
              "<Figure size 640x480 with 1 Axes>"
            ],
            "image/png": "[encoded data removed]"
          },
          "metadata": {}
        }
      ]
    },
    {
      "cell_type": "code",
      "source": [
        "perc_obs = (df_techtaste[(df_techtaste['avaliacoes'] > media -14*erro_pad)&(df_techtaste['avaliacoes'] < media + 14*erro_pad)].count()) / df_techtaste['avaliacoes'].count()\n",
        "perc_obs = perc_obs['avaliacoes']*100\n",
        "print(f'Percentual de observações: {perc_obs}')\n"
      ],
      "metadata": {
        "id": "vZvfpWIqeVUG",
        "colab": {
          "base_uri": "https://localhost:8080/"
        },
        "outputId": "ac2cc824-a857-4a4d-867a-b82a7b21413b"
      },
      "execution_count": null,
      "outputs": [
        {
          "output_type": "stream",
          "name": "stdout",
          "text": [
            "Percentual de observações: 92.5\n"
          ]
        }
      ]
    },
    {
      "cell_type": "markdown",
      "source": [
        "# Índice de confiança para 14 desvios padrão."
      ],
      "metadata": {
        "id": "IQ6S7f-Xowpk"
      }
    },
    {
      "cell_type": "code",
      "source": [
        "sns.kdeplot(df_techtaste['avaliacoes'], linewidth=2, fill= True)\n",
        "\n",
        "plt.xlabel('Notas')\n",
        "plt.ylabel('Frequência',)\n",
        "plt.title('Contorno da distribuição')\n",
        "plt.axvline(media-14*erro_pad)\n",
        "plt.axvline(media+14*erro_pad)\n",
        "\n",
        "xmin, xmax = plt.xlim()\n",
        "plt.fill_betweenx(np.linspace(0, max(stats.norm.pdf(np.linspace(media-3*desvio_padrao, media+3*desvio_padrao, 100))), 100), media-14*erro_pad, media+14*erro_pad, color='red', alpha=0.1)\n",
        "\n",
        "# Adicionar descrição\n",
        "descricao = str(perc_obs) + '%'\n",
        "plt.text(media, plt.ylim()[1]*0.3, descricao, fontsize=20, color='red', fontweight='bold', ha='center')\n",
        "plt.show()"
      ],
      "metadata": {
        "colab": {
          "base_uri": "https://localhost:8080/",
          "height": 472
        },
        "id": "9rm2GtJqoL_d",
        "outputId": "f554270c-cc6d-4bbc-9e1e-f261efcf90d8"
      },
      "execution_count": null,
      "outputs": [
        {
          "output_type": "display_data",
          "data": {
            "text/plain": [
              "<Figure size 640x480 with 1 Axes>"
            ],
            "image/png": "[encoded data removed]"
          },
          "metadata": {}
        }
      ]
    },
    {
      "cell_type": "markdown",
      "source": [
        "#Obtendo o intervalo para 90%"
      ],
      "metadata": {
        "id": "7RUZaQdspCqE"
      }
    },
    {
      "cell_type": "code",
      "source": [
        "# Melhorando o cálculo:\n",
        "\n",
        "# A função a seguir exige três argumentos: O nível de confiança, a média da distribuição e\n",
        "# o desvio padrão da distribuição normal.\n",
        "\n",
        "intervalo = stats.norm.interval(0.9, loc= df_techtaste['avaliacoes'].mean(), scale= erro_padrao)\n",
        "print(intervalo)"
      ],
      "metadata": {
        "colab": {
          "base_uri": "https://localhost:8080/"
        },
        "id": "xRGb3fe4X6Cj",
        "outputId": "b1afee8f-23ee-4ec2-b703-4f5cca36efd7"
      },
      "execution_count": null,
      "outputs": [
        {
          "output_type": "stream",
          "name": "stdout",
          "text": [
            "(38.84402439920928, 41.205975600790715)\n"
          ]
        }
      ]
    },
    {
      "cell_type": "markdown",
      "source": [
        "#Testando a hipótese nula: μ = 30"
      ],
      "metadata": {
        "id": "qBg0x_h9PN2m"
      }
    },
    {
      "cell_type": "code",
      "source": [
        "#Hipótese nula: Média populacional=30.\n",
        "#Hipótese alternativa: Média populacional!=30\n",
        "\n",
        "n_conf= 0.95\n",
        "desv_pad_pop= 2.65\n",
        "\n",
        "tamanho_amostra = len(df_techtaste)\n",
        "media_nula = 30\n",
        "\n",
        "intervalo = stats.norm.interval(n_conf, loc= media_nula, scale=2.65/np.sqrt(tamanho_amostra))\n",
        "print(intervalo)"
      ],
      "metadata": {
        "id": "REdWG3wtnGhj",
        "colab": {
          "base_uri": "https://localhost:8080/"
        },
        "outputId": "5322a918-8124-410c-a546-c44ecd95ac16"
      },
      "execution_count": null,
      "outputs": [
        {
          "output_type": "stream",
          "name": "stdout",
          "text": [
            "(29.419303816868016, 30.580696183131984)\n"
          ]
        }
      ]
    },
    {
      "cell_type": "markdown",
      "source": [
        "# Obtendo a estatística de teste Z e seu valor correspondente."
      ],
      "metadata": {
        "id": "v6GtmwQjPeIZ"
      }
    },
    {
      "cell_type": "code",
      "source": [
        "from statsmodels.stats.weightstats import ztest\n",
        "\n",
        "stat, p_valor = ztest(x1=df_techtaste['avaliacoes'], value=media_nula, alternative = 'two-sided')\n",
        "\n",
        "print(f'Estatística do teste Z: {stat} \\nP-valor: {p_valor}')\n"
      ],
      "metadata": {
        "colab": {
          "base_uri": "https://localhost:8080/"
        },
        "id": "PfOJBtDfEKnh",
        "outputId": "864b9f84-ee43-4fd5-cb0b-12d5e24b158e"
      },
      "execution_count": null,
      "outputs": [
        {
          "output_type": "stream",
          "name": "stdout",
          "text": [
            "Estatística do teste Z: 13.96274198988354 \n",
            "P-valor: 2.6311293593122384e-44\n"
          ]
        }
      ]
    },
    {
      "cell_type": "code",
      "source": [
        "if p_valor < n_conf:\n",
        "  resultado = 'Rejeitar a hipótese nula.'\n",
        "else:\n",
        "  resultado = 'Aceitar a hipótese nula.'\n",
        "\n",
        "print('Resultado:', resultado)"
      ],
      "metadata": {
        "colab": {
          "base_uri": "https://localhost:8080/"
        },
        "id": "wLcL-8T2FnT0",
        "outputId": "d6ca923b-ea4d-4796-aec3-f5aabfbc196d"
      },
      "execution_count": null,
      "outputs": [
        {
          "output_type": "stream",
          "name": "stdout",
          "text": [
            "Resultado: Rejeitar a hipótese nula.\n"
          ]
        }
      ]
    }
  ]
}