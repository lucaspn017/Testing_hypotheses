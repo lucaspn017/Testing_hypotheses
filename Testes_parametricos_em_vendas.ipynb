{
  "nbformat": 4,
  "nbformat_minor": 0,
  "metadata": {
    "colab": {
      "provenance": [],
      "authorship_tag": "ABX9TyNHFROaCbH/X/412zpHS4+G",
      "include_colab_link": true
    },
    "kernelspec": {
      "name": "python3",
      "display_name": "Python 3"
    },
    "language_info": {
      "name": "python"
    }
  },
  "cells": [
    {
      "cell_type": "markdown",
      "metadata": {
        "id": "view-in-github",
        "colab_type": "text"
      },
      "source": [
        "<a href=\"https://colab.research.google.com/github/lucaspn017/Testing_hypotheses/blob/main/Testes_parametricos_em_vendas.ipynb\" target=\"_parent\"><img src=\"https://colab.research.google.com/assets/colab-badge.svg\" alt=\"Open In Colab\"/></a>"
      ]
    },
    {
      "cell_type": "markdown",
      "source": [
        "<h1> <strong> Teste paramétrico para a Zoop Megastore."
      ],
      "metadata": {
        "id": "JXZiPLricDxD"
      }
    },
    {
      "cell_type": "code",
      "execution_count": 6,
      "metadata": {
        "id": "7i6P6TcjbUnc"
      },
      "outputs": [],
      "source": [
        "import pandas as pd\n",
        "import numpy as np\n",
        "\n",
        "df_equipe_vendas = pd.DataFrame({'Vendedor': [ 'Luíza', 'Bia', 'Rodrigo', 'Allan', 'Evaldo'],\n",
        "                                 'Vendas Antes (R$)': [252.72, 203.91, 307.32, 185.78, 220.5],\n",
        "                                 'Vendas Depois (R$)': [285.1, 223.15, 324.41, 202.23, 240.63]})\n"
      ]
    },
    {
      "cell_type": "markdown",
      "source": [
        "<h2>Qual a relação entre as amostras?\n",
        "<h4>R: Se tratam de amostras pareadas, pois o mesmo grupo de funcionários será avaliado após o programa de treinamento."
      ],
      "metadata": {
        "id": "rRg_rGcOchog"
      }
    },
    {
      "cell_type": "code",
      "source": [
        "media_vendas_antes = np.mean(df_equipe_vendas['Vendas Antes (R$)'])\n",
        "media_vendas_depois = np.mean(df_equipe_vendas['Vendas Depois (R$)'])\n",
        "\n",
        "print(f'----Média das vendas----\\n Antes do Treinamento: {media_vendas_antes:.2f}\\n Depois do Treinamento: {media_vendas_depois:.2f}')"
      ],
      "metadata": {
        "colab": {
          "base_uri": "https://localhost:8080/"
        },
        "id": "6nVy8TK8dK6t",
        "outputId": "c2056d0a-5a9c-49ab-b816-150128622ead"
      },
      "execution_count": 12,
      "outputs": [
        {
          "output_type": "stream",
          "name": "stdout",
          "text": [
            "----Média das vendas----\n",
            " Antes do Treinamento: 234.05\n",
            " Depois do Treinamento: 255.10\n"
          ]
        }
      ]
    },
    {
      "cell_type": "markdown",
      "source": [
        "<h2><strong>Hipóteses formuladas:</strong>\n",
        "\n",
        "H<sub>0</sub>: μ<sub>d</sub>=0\n",
        "\n",
        "H<sub>1</sub>: μ<sub>d</sub>>0\n",
        "\n",
        "Obs: μ<sub>d</sub> representará a diferença entre as médias."
      ],
      "metadata": {
        "id": "fDuZR3jue9BV"
      }
    },
    {
      "cell_type": "code",
      "source": [
        "from scipy.stats import ttest_rel"
      ],
      "metadata": {
        "id": "4L4-wtOKfpWX"
      },
      "execution_count": 13,
      "outputs": []
    },
    {
      "cell_type": "code",
      "source": [
        "stats, p_valor = ttest_rel(df_equipe_vendas['Vendas Antes (R$)'], df_equipe_vendas['Vendas Depois (R$)'], alternative='greater')\n",
        "nivel_sig = 0.05\n",
        "print(f'Resultados:\\n\\nEstatística de teste: {stats}\\nP-valor: {p_valor}')"
      ],
      "metadata": {
        "colab": {
          "base_uri": "https://localhost:8080/"
        },
        "id": "W_gEpfZfgAXc",
        "outputId": "ed0b1414-1385-4c58-ffcb-ac4955681ce0"
      },
      "execution_count": 23,
      "outputs": [
        {
          "output_type": "stream",
          "name": "stdout",
          "text": [
            "Resultados:\n",
            "\n",
            "Estatística de teste: -7.23705258430516\n",
            "P-valor: 0.9990327884613209\n"
          ]
        }
      ]
    },
    {
      "cell_type": "code",
      "source": [
        "if p_valor < nivel_sig:\n",
        "  result = 'Rejeitar a hipótese nula.'\n",
        "else:\n",
        "  result = 'Aceitar a hipótese nula.'\n",
        "print(f'Resultado: {result}')"
      ],
      "metadata": {
        "colab": {
          "base_uri": "https://localhost:8080/"
        },
        "id": "-w_8SpWPhg7v",
        "outputId": "96691bf9-82dc-44b5-e046-dbfe06e2c521"
      },
      "execution_count": 24,
      "outputs": [
        {
          "output_type": "stream",
          "name": "stdout",
          "text": [
            "Resultado: Aceitar a hipótese nula.\n"
          ]
        }
      ]
    },
    {
      "cell_type": "markdown",
      "source": [
        "<h1><strong> Segundo Caso: Análise de satisfação dos clientes."
      ],
      "metadata": {
        "id": "b_EkYQNSlfia"
      }
    },
    {
      "cell_type": "code",
      "source": [
        "import pandas as pd\n",
        "\n",
        "df_filiais = pd.DataFrame({'Filial Centro-Norte': [3.2, 2.9, 2.0, 3.3, 3.1],\n",
        "                           'Filial Sul': [3.8, 4.0, 4.7, 4.9, 4.8]})"
      ],
      "metadata": {
        "id": "H_g60IWGltqT"
      },
      "execution_count": 25,
      "outputs": []
    },
    {
      "cell_type": "markdown",
      "source": [
        "<h2><strong>Qual a relação entre as amostras?\n",
        "<h3> As duas amostras são independentes, haja vista que os clientes das duas filiais não possuem relação.\n",
        "\n",
        "<h2>Hipóteses consideradas.\n",
        "\n",
        "$H_0: μ_d=0$\n",
        "\n",
        "$H_1: μ_d \\neq 0$"
      ],
      "metadata": {
        "id": "gCKLQsVpl1wy"
      }
    },
    {
      "cell_type": "code",
      "source": [
        "from scipy import ttest_rel"
      ],
      "metadata": {
        "id": "zMvopjaKmNoO"
      },
      "execution_count": null,
      "outputs": []
    },
    {
      "cell_type": "code",
      "source": [
        "stats, p_valor = ttest_rel(df_filiais['Filial Centro-Norte'], df_filiais['Filial Sul'])\n",
        "print(f'Resultado do teste T bilateral.\\n\\nEstatística de teste:{stats:.2f}\\nP-Valor:{p_valor}')\n",
        "nivel_sig = 0.05"
      ],
      "metadata": {
        "colab": {
          "base_uri": "https://localhost:8080/"
        },
        "id": "7CZ_FJswnu2n",
        "outputId": "788f27a3-99d1-48d0-c33f-03bad8b90cab"
      },
      "execution_count": 30,
      "outputs": [
        {
          "output_type": "stream",
          "name": "stdout",
          "text": [
            "Resultado do teste T bilateral.\n",
            "\n",
            "Estatística de teste:-4.40\n",
            "P-Valor:0.01170753334830815\n"
          ]
        }
      ]
    },
    {
      "cell_type": "code",
      "source": [
        "if stats < nivel_sig:\n",
        "  result = 'Rejeitar a hipótese nula.'\n",
        "else:\n",
        "  result = 'Aceitar a hipótese nula.'\n",
        "\n",
        "print(f'Resultado: {result}')"
      ],
      "metadata": {
        "colab": {
          "base_uri": "https://localhost:8080/"
        },
        "id": "hO20kxEUoNch",
        "outputId": "da32d139-747f-4b9a-ebde-a42642fd7bb7"
      },
      "execution_count": 31,
      "outputs": [
        {
          "output_type": "stream",
          "name": "stdout",
          "text": [
            "Resultado: Rejeitar a hipótese nula.\n"
          ]
        }
      ]
    }
  ]
}