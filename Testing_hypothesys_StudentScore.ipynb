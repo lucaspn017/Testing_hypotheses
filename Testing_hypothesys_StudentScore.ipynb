{
  "nbformat": 4,
  "nbformat_minor": 0,
  "metadata": {
    "colab": {
      "provenance": [],
      "authorship_tag": "ABX9TyOLJcIlkG6iJXVeO9xadfaV",
      "include_colab_link": true
    },
    "kernelspec": {
      "name": "python3",
      "display_name": "Python 3"
    },
    "language_info": {
      "name": "python"
    }
  },
  "cells": [
    {
      "cell_type": "markdown",
      "metadata": {
        "id": "view-in-github",
        "colab_type": "text"
      },
      "source": [
        "<a href=\"https://colab.research.google.com/github/lucaspn017/Testing_hypotheses/blob/main/Testing_hypothesys_StudentScore.ipynb\" target=\"_parent\"><img src=\"https://colab.research.google.com/assets/colab-badge.svg\" alt=\"Open In Colab\"/></a>"
      ]
    },
    {
      "cell_type": "markdown",
      "source": [
        "# **Inicialmente**: Vamos aplicar o teorema do limite central, para enterdermos o quão fiel as médias amostrais serão em relação as médias populacionais.\n",
        "\n",
        "> Para tal, os seguintes requisitos devem ser obedecidos:\n",
        "\n",
        "* *O número de dados da amostra (n) deve ser suficientemente grande (n≽30).*\n",
        "\n",
        "* *A distribuição populacional deve ser aproximadamente normal e simétrica.*\n",
        "\n",
        "* *A extração das amostras deve se dar de forma aleatória e independente.*"
      ],
      "metadata": {
        "id": "dxbgAkvBAfSk"
      }
    },
    {
      "cell_type": "code",
      "source": [
        "import pandas as pd\n",
        "import numpy as np\n",
        "import matplotlib.pyplot as plt\n",
        "import seaborn as sns\n",
        "import os"
      ],
      "metadata": {
        "id": "61uc8vTJPIOs"
      },
      "execution_count": 1,
      "outputs": []
    },
    {
      "cell_type": "code",
      "execution_count": 2,
      "metadata": {
        "colab": {
          "base_uri": "https://localhost:8080/"
        },
        "id": "zvxRbOvLOz1n",
        "outputId": "f958b0bd-beb9-43e1-eb0f-961e91561a7b"
      },
      "outputs": [
        {
          "output_type": "stream",
          "name": "stdout",
          "text": [
            "Downloading from https://www.kaggle.com/api/v1/datasets/download/vikramamin/student-score-hypothesis-testing-t-test?dataset_version_number=1...\n"
          ]
        },
        {
          "output_type": "stream",
          "name": "stderr",
          "text": [
            "100%|██████████| 7.16k/7.16k [00:00<00:00, 2.97MB/s]"
          ]
        },
        {
          "output_type": "stream",
          "name": "stdout",
          "text": [
            "Extracting files...\n",
            "Path to dataset files: /root/.cache/kagglehub/datasets/vikramamin/student-score-hypothesis-testing-t-test/versions/1\n"
          ]
        },
        {
          "output_type": "stream",
          "name": "stderr",
          "text": [
            "\n"
          ]
        }
      ],
      "source": [
        "import kagglehub\n",
        "\n",
        "# Download latest version\n",
        "path = kagglehub.dataset_download(\"vikramamin/student-score-hypothesis-testing-t-test\")\n",
        "\n",
        "print(\"Path to dataset files:\", path)"
      ]
    },
    {
      "cell_type": "code",
      "source": [
        "print(os.listdir(path))\n",
        "students = pd.read_csv(f\"{path}/student-mat.csv\")"
      ],
      "metadata": {
        "colab": {
          "base_uri": "https://localhost:8080/"
        },
        "id": "Gnx2sFfcPKbY",
        "outputId": "55dc979a-ab99-43a2-aba7-dbb48cd208d8"
      },
      "execution_count": 3,
      "outputs": [
        {
          "output_type": "stream",
          "name": "stdout",
          "text": [
            "['student-mat.csv']\n"
          ]
        }
      ]
    },
    {
      "cell_type": "code",
      "source": [
        "students_df = pd.DataFrame(students)\n",
        "students_df"
      ],
      "metadata": {
        "colab": {
          "base_uri": "https://localhost:8080/",
          "height": 423
        },
        "id": "U1w308eDQ0mn",
        "outputId": "a8fac926-5e0e-471f-f6db-e7f274c39f69"
      },
      "execution_count": 4,
      "outputs": [
        {
          "output_type": "execute_result",
          "data": {
            "text/plain": [
              "    school sex  age address famsize Pstatus  Medu  Fedu      Mjob      Fjob  \\\n",
              "0       GP   F   18       U     GT3       A     4     4   at_home   teacher   \n",
              "1       GP   F   17       U     GT3       T     1     1   at_home     other   \n",
              "2       GP   F   15       U     LE3       T     1     1   at_home     other   \n",
              "3       GP   F   15       U     GT3       T     4     2    health  services   \n",
              "4       GP   F   16       U     GT3       T     3     3     other     other   \n",
              "..     ...  ..  ...     ...     ...     ...   ...   ...       ...       ...   \n",
              "390     MS   M   20       U     LE3       A     2     2  services  services   \n",
              "391     MS   M   17       U     LE3       T     3     1  services  services   \n",
              "392     MS   M   21       R     GT3       T     1     1     other     other   \n",
              "393     MS   M   18       R     LE3       T     3     2  services     other   \n",
              "394     MS   M   19       U     LE3       T     1     1     other   at_home   \n",
              "\n",
              "     ... famrel freetime  goout  Dalc  Walc health absences  G1  G2  G3  \n",
              "0    ...      4        3      4     1     1      3        6   5   6   6  \n",
              "1    ...      5        3      3     1     1      3        4   5   5   6  \n",
              "2    ...      4        3      2     2     3      3       10   7   8  10  \n",
              "3    ...      3        2      2     1     1      5        2  15  14  15  \n",
              "4    ...      4        3      2     1     2      5        4   6  10  10  \n",
              "..   ...    ...      ...    ...   ...   ...    ...      ...  ..  ..  ..  \n",
              "390  ...      5        5      4     4     5      4       11   9   9   9  \n",
              "391  ...      2        4      5     3     4      2        3  14  16  16  \n",
              "392  ...      5        5      3     3     3      3        3  10   8   7  \n",
              "393  ...      4        4      1     3     4      5        0  11  12  10  \n",
              "394  ...      3        2      3     3     3      5        5   8   9   9  \n",
              "\n",
              "[395 rows x 33 columns]"
            ],
            "text/html": [
              "\n",
              "  <div id=\"df-63912d2b-90b7-49c0-8af9-e5ee18cc21a9\" class=\"colab-df-container\">\n",
              "    <div>\n",
              "<style scoped>\n",
              "    .dataframe tbody tr th:only-of-type {\n",
              "        vertical-align: middle;\n",
              "    }\n",
              "\n",
              "    .dataframe tbody tr th {\n",
              "        vertical-align: top;\n",
              "    }\n",
              "\n",
              "    .dataframe thead th {\n",
              "        text-align: right;\n",
              "    }\n",
              "</style>\n",
              "<table border=\"1\" class=\"dataframe\">\n",
              "  <thead>\n",
              "    <tr style=\"text-align: right;\">\n",
              "      <th></th>\n",
              "      <th>school</th>\n",
              "      <th>sex</th>\n",
              "      <th>age</th>\n",
              "      <th>address</th>\n",
              "      <th>famsize</th>\n",
              "      <th>Pstatus</th>\n",
              "      <th>Medu</th>\n",
              "      <th>Fedu</th>\n",
              "      <th>Mjob</th>\n",
              "      <th>Fjob</th>\n",
              "      <th>...</th>\n",
              "      <th>famrel</th>\n",
              "      <th>freetime</th>\n",
              "      <th>goout</th>\n",
              "      <th>Dalc</th>\n",
              "      <th>Walc</th>\n",
              "      <th>health</th>\n",
              "      <th>absences</th>\n",
              "      <th>G1</th>\n",
              "      <th>G2</th>\n",
              "      <th>G3</th>\n",
              "    </tr>\n",
              "  </thead>\n",
              "  <tbody>\n",
              "    <tr>\n",
              "      <th>0</th>\n",
              "      <td>GP</td>\n",
              "      <td>F</td>\n",
              "      <td>18</td>\n",
              "      <td>U</td>\n",
              "      <td>GT3</td>\n",
              "      <td>A</td>\n",
              "      <td>4</td>\n",
              "      <td>4</td>\n",
              "      <td>at_home</td>\n",
              "      <td>teacher</td>\n",
              "      <td>...</td>\n",
              "      <td>4</td>\n",
              "      <td>3</td>\n",
              "      <td>4</td>\n",
              "      <td>1</td>\n",
              "      <td>1</td>\n",
              "      <td>3</td>\n",
              "      <td>6</td>\n",
              "      <td>5</td>\n",
              "      <td>6</td>\n",
              "      <td>6</td>\n",
              "    </tr>\n",
              "    <tr>\n",
              "      <th>1</th>\n",
              "      <td>GP</td>\n",
              "      <td>F</td>\n",
              "      <td>17</td>\n",
              "      <td>U</td>\n",
              "      <td>GT3</td>\n",
              "      <td>T</td>\n",
              "      <td>1</td>\n",
              "      <td>1</td>\n",
              "      <td>at_home</td>\n",
              "      <td>other</td>\n",
              "      <td>...</td>\n",
              "      <td>5</td>\n",
              "      <td>3</td>\n",
              "      <td>3</td>\n",
              "      <td>1</td>\n",
              "      <td>1</td>\n",
              "      <td>3</td>\n",
              "      <td>4</td>\n",
              "      <td>5</td>\n",
              "      <td>5</td>\n",
              "      <td>6</td>\n",
              "    </tr>\n",
              "    <tr>\n",
              "      <th>2</th>\n",
              "      <td>GP</td>\n",
              "      <td>F</td>\n",
              "      <td>15</td>\n",
              "      <td>U</td>\n",
              "      <td>LE3</td>\n",
              "      <td>T</td>\n",
              "      <td>1</td>\n",
              "      <td>1</td>\n",
              "      <td>at_home</td>\n",
              "      <td>other</td>\n",
              "      <td>...</td>\n",
              "      <td>4</td>\n",
              "      <td>3</td>\n",
              "      <td>2</td>\n",
              "      <td>2</td>\n",
              "      <td>3</td>\n",
              "      <td>3</td>\n",
              "      <td>10</td>\n",
              "      <td>7</td>\n",
              "      <td>8</td>\n",
              "      <td>10</td>\n",
              "    </tr>\n",
              "    <tr>\n",
              "      <th>3</th>\n",
              "      <td>GP</td>\n",
              "      <td>F</td>\n",
              "      <td>15</td>\n",
              "      <td>U</td>\n",
              "      <td>GT3</td>\n",
              "      <td>T</td>\n",
              "      <td>4</td>\n",
              "      <td>2</td>\n",
              "      <td>health</td>\n",
              "      <td>services</td>\n",
              "      <td>...</td>\n",
              "      <td>3</td>\n",
              "      <td>2</td>\n",
              "      <td>2</td>\n",
              "      <td>1</td>\n",
              "      <td>1</td>\n",
              "      <td>5</td>\n",
              "      <td>2</td>\n",
              "      <td>15</td>\n",
              "      <td>14</td>\n",
              "      <td>15</td>\n",
              "    </tr>\n",
              "    <tr>\n",
              "      <th>4</th>\n",
              "      <td>GP</td>\n",
              "      <td>F</td>\n",
              "      <td>16</td>\n",
              "      <td>U</td>\n",
              "      <td>GT3</td>\n",
              "      <td>T</td>\n",
              "      <td>3</td>\n",
              "      <td>3</td>\n",
              "      <td>other</td>\n",
              "      <td>other</td>\n",
              "      <td>...</td>\n",
              "      <td>4</td>\n",
              "      <td>3</td>\n",
              "      <td>2</td>\n",
              "      <td>1</td>\n",
              "      <td>2</td>\n",
              "      <td>5</td>\n",
              "      <td>4</td>\n",
              "      <td>6</td>\n",
              "      <td>10</td>\n",
              "      <td>10</td>\n",
              "    </tr>\n",
              "    <tr>\n",
              "      <th>...</th>\n",
              "      <td>...</td>\n",
              "      <td>...</td>\n",
              "      <td>...</td>\n",
              "      <td>...</td>\n",
              "      <td>...</td>\n",
              "      <td>...</td>\n",
              "      <td>...</td>\n",
              "      <td>...</td>\n",
              "      <td>...</td>\n",
              "      <td>...</td>\n",
              "      <td>...</td>\n",
              "      <td>...</td>\n",
              "      <td>...</td>\n",
              "      <td>...</td>\n",
              "      <td>...</td>\n",
              "      <td>...</td>\n",
              "      <td>...</td>\n",
              "      <td>...</td>\n",
              "      <td>...</td>\n",
              "      <td>...</td>\n",
              "      <td>...</td>\n",
              "    </tr>\n",
              "    <tr>\n",
              "      <th>390</th>\n",
              "      <td>MS</td>\n",
              "      <td>M</td>\n",
              "      <td>20</td>\n",
              "      <td>U</td>\n",
              "      <td>LE3</td>\n",
              "      <td>A</td>\n",
              "      <td>2</td>\n",
              "      <td>2</td>\n",
              "      <td>services</td>\n",
              "      <td>services</td>\n",
              "      <td>...</td>\n",
              "      <td>5</td>\n",
              "      <td>5</td>\n",
              "      <td>4</td>\n",
              "      <td>4</td>\n",
              "      <td>5</td>\n",
              "      <td>4</td>\n",
              "      <td>11</td>\n",
              "      <td>9</td>\n",
              "      <td>9</td>\n",
              "      <td>9</td>\n",
              "    </tr>\n",
              "    <tr>\n",
              "      <th>391</th>\n",
              "      <td>MS</td>\n",
              "      <td>M</td>\n",
              "      <td>17</td>\n",
              "      <td>U</td>\n",
              "      <td>LE3</td>\n",
              "      <td>T</td>\n",
              "      <td>3</td>\n",
              "      <td>1</td>\n",
              "      <td>services</td>\n",
              "      <td>services</td>\n",
              "      <td>...</td>\n",
              "      <td>2</td>\n",
              "      <td>4</td>\n",
              "      <td>5</td>\n",
              "      <td>3</td>\n",
              "      <td>4</td>\n",
              "      <td>2</td>\n",
              "      <td>3</td>\n",
              "      <td>14</td>\n",
              "      <td>16</td>\n",
              "      <td>16</td>\n",
              "    </tr>\n",
              "    <tr>\n",
              "      <th>392</th>\n",
              "      <td>MS</td>\n",
              "      <td>M</td>\n",
              "      <td>21</td>\n",
              "      <td>R</td>\n",
              "      <td>GT3</td>\n",
              "      <td>T</td>\n",
              "      <td>1</td>\n",
              "      <td>1</td>\n",
              "      <td>other</td>\n",
              "      <td>other</td>\n",
              "      <td>...</td>\n",
              "      <td>5</td>\n",
              "      <td>5</td>\n",
              "      <td>3</td>\n",
              "      <td>3</td>\n",
              "      <td>3</td>\n",
              "      <td>3</td>\n",
              "      <td>3</td>\n",
              "      <td>10</td>\n",
              "      <td>8</td>\n",
              "      <td>7</td>\n",
              "    </tr>\n",
              "    <tr>\n",
              "      <th>393</th>\n",
              "      <td>MS</td>\n",
              "      <td>M</td>\n",
              "      <td>18</td>\n",
              "      <td>R</td>\n",
              "      <td>LE3</td>\n",
              "      <td>T</td>\n",
              "      <td>3</td>\n",
              "      <td>2</td>\n",
              "      <td>services</td>\n",
              "      <td>other</td>\n",
              "      <td>...</td>\n",
              "      <td>4</td>\n",
              "      <td>4</td>\n",
              "      <td>1</td>\n",
              "      <td>3</td>\n",
              "      <td>4</td>\n",
              "      <td>5</td>\n",
              "      <td>0</td>\n",
              "      <td>11</td>\n",
              "      <td>12</td>\n",
              "      <td>10</td>\n",
              "    </tr>\n",
              "    <tr>\n",
              "      <th>394</th>\n",
              "      <td>MS</td>\n",
              "      <td>M</td>\n",
              "      <td>19</td>\n",
              "      <td>U</td>\n",
              "      <td>LE3</td>\n",
              "      <td>T</td>\n",
              "      <td>1</td>\n",
              "      <td>1</td>\n",
              "      <td>other</td>\n",
              "      <td>at_home</td>\n",
              "      <td>...</td>\n",
              "      <td>3</td>\n",
              "      <td>2</td>\n",
              "      <td>3</td>\n",
              "      <td>3</td>\n",
              "      <td>3</td>\n",
              "      <td>5</td>\n",
              "      <td>5</td>\n",
              "      <td>8</td>\n",
              "      <td>9</td>\n",
              "      <td>9</td>\n",
              "    </tr>\n",
              "  </tbody>\n",
              "</table>\n",
              "<p>395 rows × 33 columns</p>\n",
              "</div>\n",
              "    <div class=\"colab-df-buttons\">\n",
              "\n",
              "  <div class=\"colab-df-container\">\n",
              "    <button class=\"colab-df-convert\" onclick=\"convertToInteractive('df-63912d2b-90b7-49c0-8af9-e5ee18cc21a9')\"\n",
              "            title=\"Convert this dataframe to an interactive table.\"\n",
              "            style=\"display:none;\">\n",
              "\n",
              "  <svg xmlns=\"http://www.w3.org/2000/svg\" height=\"24px\" viewBox=\"0 -960 960 960\">\n",
              "    <path d=\"M120-120v-720h720v720H120Zm60-500h600v-160H180v160Zm220 220h160v-160H400v160Zm0 220h160v-160H400v160ZM180-400h160v-160H180v160Zm440 0h160v-160H620v160ZM180-180h160v-160H180v160Zm440 0h160v-160H620v160Z\"/>\n",
              "  </svg>\n",
              "    </button>\n",
              "\n",
              "  <style>\n",
              "    .colab-df-container {\n",
              "      display:flex;\n",
              "      gap: 12px;\n",
              "    }\n",
              "\n",
              "    .colab-df-convert {\n",
              "      background-color: #E8F0FE;\n",
              "      border: none;\n",
              "      border-radius: 50%;\n",
              "      cursor: pointer;\n",
              "      display: none;\n",
              "      fill: #1967D2;\n",
              "      height: 32px;\n",
              "      padding: 0 0 0 0;\n",
              "      width: 32px;\n",
              "    }\n",
              "\n",
              "    .colab-df-convert:hover {\n",
              "      background-color: #E2EBFA;\n",
              "      box-shadow: 0px 1px 2px rgba(60, 64, 67, 0.3), 0px 1px 3px 1px rgba(60, 64, 67, 0.15);\n",
              "      fill: #174EA6;\n",
              "    }\n",
              "\n",
              "    .colab-df-buttons div {\n",
              "      margin-bottom: 4px;\n",
              "    }\n",
              "\n",
              "    [theme=dark] .colab-df-convert {\n",
              "      background-color: #3B4455;\n",
              "      fill: #D2E3FC;\n",
              "    }\n",
              "\n",
              "    [theme=dark] .colab-df-convert:hover {\n",
              "      background-color: #434B5C;\n",
              "      box-shadow: 0px 1px 3px 1px rgba(0, 0, 0, 0.15);\n",
              "      filter: drop-shadow(0px 1px 2px rgba(0, 0, 0, 0.3));\n",
              "      fill: #FFFFFF;\n",
              "    }\n",
              "  </style>\n",
              "\n",
              "    <script>\n",
              "      const buttonEl =\n",
              "        document.querySelector('#df-63912d2b-90b7-49c0-8af9-e5ee18cc21a9 button.colab-df-convert');\n",
              "      buttonEl.style.display =\n",
              "        google.colab.kernel.accessAllowed ? 'block' : 'none';\n",
              "\n",
              "      async function convertToInteractive(key) {\n",
              "        const element = document.querySelector('#df-63912d2b-90b7-49c0-8af9-e5ee18cc21a9');\n",
              "        const dataTable =\n",
              "          await google.colab.kernel.invokeFunction('convertToInteractive',\n",
              "                                                    [key], {});\n",
              "        if (!dataTable) return;\n",
              "\n",
              "        const docLinkHtml = 'Like what you see? Visit the ' +\n",
              "          '<a target=\"_blank\" href=https://colab.research.google.com/notebooks/data_table.ipynb>data table notebook</a>'\n",
              "          + ' to learn more about interactive tables.';\n",
              "        element.innerHTML = '';\n",
              "        dataTable['output_type'] = 'display_data';\n",
              "        await google.colab.output.renderOutput(dataTable, element);\n",
              "        const docLink = document.createElement('div');\n",
              "        docLink.innerHTML = docLinkHtml;\n",
              "        element.appendChild(docLink);\n",
              "      }\n",
              "    </script>\n",
              "  </div>\n",
              "\n",
              "\n",
              "    <div id=\"df-a37677dd-3aa1-41cb-829d-8c3c34a22c3b\">\n",
              "      <button class=\"colab-df-quickchart\" onclick=\"quickchart('df-a37677dd-3aa1-41cb-829d-8c3c34a22c3b')\"\n",
              "                title=\"Suggest charts\"\n",
              "                style=\"display:none;\">\n",
              "\n",
              "<svg xmlns=\"http://www.w3.org/2000/svg\" height=\"24px\"viewBox=\"0 0 24 24\"\n",
              "     width=\"24px\">\n",
              "    <g>\n",
              "        <path d=\"M19 3H5c-1.1 0-2 .9-2 2v14c0 1.1.9 2 2 2h14c1.1 0 2-.9 2-2V5c0-1.1-.9-2-2-2zM9 17H7v-7h2v7zm4 0h-2V7h2v10zm4 0h-2v-4h2v4z\"/>\n",
              "    </g>\n",
              "</svg>\n",
              "      </button>\n",
              "\n",
              "<style>\n",
              "  .colab-df-quickchart {\n",
              "      --bg-color: #E8F0FE;\n",
              "      --fill-color: #1967D2;\n",
              "      --hover-bg-color: #E2EBFA;\n",
              "      --hover-fill-color: #174EA6;\n",
              "      --disabled-fill-color: #AAA;\n",
              "      --disabled-bg-color: #DDD;\n",
              "  }\n",
              "\n",
              "  [theme=dark] .colab-df-quickchart {\n",
              "      --bg-color: #3B4455;\n",
              "      --fill-color: #D2E3FC;\n",
              "      --hover-bg-color: #434B5C;\n",
              "      --hover-fill-color: #FFFFFF;\n",
              "      --disabled-bg-color: #3B4455;\n",
              "      --disabled-fill-color: #666;\n",
              "  }\n",
              "\n",
              "  .colab-df-quickchart {\n",
              "    background-color: var(--bg-color);\n",
              "    border: none;\n",
              "    border-radius: 50%;\n",
              "    cursor: pointer;\n",
              "    display: none;\n",
              "    fill: var(--fill-color);\n",
              "    height: 32px;\n",
              "    padding: 0;\n",
              "    width: 32px;\n",
              "  }\n",
              "\n",
              "  .colab-df-quickchart:hover {\n",
              "    background-color: var(--hover-bg-color);\n",
              "    box-shadow: 0 1px 2px rgba(60, 64, 67, 0.3), 0 1px 3px 1px rgba(60, 64, 67, 0.15);\n",
              "    fill: var(--button-hover-fill-color);\n",
              "  }\n",
              "\n",
              "  .colab-df-quickchart-complete:disabled,\n",
              "  .colab-df-quickchart-complete:disabled:hover {\n",
              "    background-color: var(--disabled-bg-color);\n",
              "    fill: var(--disabled-fill-color);\n",
              "    box-shadow: none;\n",
              "  }\n",
              "\n",
              "  .colab-df-spinner {\n",
              "    border: 2px solid var(--fill-color);\n",
              "    border-color: transparent;\n",
              "    border-bottom-color: var(--fill-color);\n",
              "    animation:\n",
              "      spin 1s steps(1) infinite;\n",
              "  }\n",
              "\n",
              "  @keyframes spin {\n",
              "    0% {\n",
              "      border-color: transparent;\n",
              "      border-bottom-color: var(--fill-color);\n",
              "      border-left-color: var(--fill-color);\n",
              "    }\n",
              "    20% {\n",
              "      border-color: transparent;\n",
              "      border-left-color: var(--fill-color);\n",
              "      border-top-color: var(--fill-color);\n",
              "    }\n",
              "    30% {\n",
              "      border-color: transparent;\n",
              "      border-left-color: var(--fill-color);\n",
              "      border-top-color: var(--fill-color);\n",
              "      border-right-color: var(--fill-color);\n",
              "    }\n",
              "    40% {\n",
              "      border-color: transparent;\n",
              "      border-right-color: var(--fill-color);\n",
              "      border-top-color: var(--fill-color);\n",
              "    }\n",
              "    60% {\n",
              "      border-color: transparent;\n",
              "      border-right-color: var(--fill-color);\n",
              "    }\n",
              "    80% {\n",
              "      border-color: transparent;\n",
              "      border-right-color: var(--fill-color);\n",
              "      border-bottom-color: var(--fill-color);\n",
              "    }\n",
              "    90% {\n",
              "      border-color: transparent;\n",
              "      border-bottom-color: var(--fill-color);\n",
              "    }\n",
              "  }\n",
              "</style>\n",
              "\n",
              "      <script>\n",
              "        async function quickchart(key) {\n",
              "          const quickchartButtonEl =\n",
              "            document.querySelector('#' + key + ' button');\n",
              "          quickchartButtonEl.disabled = true;  // To prevent multiple clicks.\n",
              "          quickchartButtonEl.classList.add('colab-df-spinner');\n",
              "          try {\n",
              "            const charts = await google.colab.kernel.invokeFunction(\n",
              "                'suggestCharts', [key], {});\n",
              "          } catch (error) {\n",
              "            console.error('Error during call to suggestCharts:', error);\n",
              "          }\n",
              "          quickchartButtonEl.classList.remove('colab-df-spinner');\n",
              "          quickchartButtonEl.classList.add('colab-df-quickchart-complete');\n",
              "        }\n",
              "        (() => {\n",
              "          let quickchartButtonEl =\n",
              "            document.querySelector('#df-a37677dd-3aa1-41cb-829d-8c3c34a22c3b button');\n",
              "          quickchartButtonEl.style.display =\n",
              "            google.colab.kernel.accessAllowed ? 'block' : 'none';\n",
              "        })();\n",
              "      </script>\n",
              "    </div>\n",
              "\n",
              "  <div id=\"id_f571b6b0-5122-469c-a103-af2a71e65791\">\n",
              "    <style>\n",
              "      .colab-df-generate {\n",
              "        background-color: #E8F0FE;\n",
              "        border: none;\n",
              "        border-radius: 50%;\n",
              "        cursor: pointer;\n",
              "        display: none;\n",
              "        fill: #1967D2;\n",
              "        height: 32px;\n",
              "        padding: 0 0 0 0;\n",
              "        width: 32px;\n",
              "      }\n",
              "\n",
              "      .colab-df-generate:hover {\n",
              "        background-color: #E2EBFA;\n",
              "        box-shadow: 0px 1px 2px rgba(60, 64, 67, 0.3), 0px 1px 3px 1px rgba(60, 64, 67, 0.15);\n",
              "        fill: #174EA6;\n",
              "      }\n",
              "\n",
              "      [theme=dark] .colab-df-generate {\n",
              "        background-color: #3B4455;\n",
              "        fill: #D2E3FC;\n",
              "      }\n",
              "\n",
              "      [theme=dark] .colab-df-generate:hover {\n",
              "        background-color: #434B5C;\n",
              "        box-shadow: 0px 1px 3px 1px rgba(0, 0, 0, 0.15);\n",
              "        filter: drop-shadow(0px 1px 2px rgba(0, 0, 0, 0.3));\n",
              "        fill: #FFFFFF;\n",
              "      }\n",
              "    </style>\n",
              "    <button class=\"colab-df-generate\" onclick=\"generateWithVariable('students_df')\"\n",
              "            title=\"Generate code using this dataframe.\"\n",
              "            style=\"display:none;\">\n",
              "\n",
              "  <svg xmlns=\"http://www.w3.org/2000/svg\" height=\"24px\"viewBox=\"0 0 24 24\"\n",
              "       width=\"24px\">\n",
              "    <path d=\"M7,19H8.4L18.45,9,17,7.55,7,17.6ZM5,21V16.75L18.45,3.32a2,2,0,0,1,2.83,0l1.4,1.43a1.91,1.91,0,0,1,.58,1.4,1.91,1.91,0,0,1-.58,1.4L9.25,21ZM18.45,9,17,7.55Zm-12,3A5.31,5.31,0,0,0,4.9,8.1,5.31,5.31,0,0,0,1,6.5,5.31,5.31,0,0,0,4.9,4.9,5.31,5.31,0,0,0,6.5,1,5.31,5.31,0,0,0,8.1,4.9,5.31,5.31,0,0,0,12,6.5,5.46,5.46,0,0,0,6.5,12Z\"/>\n",
              "  </svg>\n",
              "    </button>\n",
              "    <script>\n",
              "      (() => {\n",
              "      const buttonEl =\n",
              "        document.querySelector('#id_f571b6b0-5122-469c-a103-af2a71e65791 button.colab-df-generate');\n",
              "      buttonEl.style.display =\n",
              "        google.colab.kernel.accessAllowed ? 'block' : 'none';\n",
              "\n",
              "      buttonEl.onclick = () => {\n",
              "        google.colab.notebook.generateWithVariable('students_df');\n",
              "      }\n",
              "      })();\n",
              "    </script>\n",
              "  </div>\n",
              "\n",
              "    </div>\n",
              "  </div>\n"
            ],
            "application/vnd.google.colaboratory.intrinsic+json": {
              "type": "dataframe",
              "variable_name": "students_df"
            }
          },
          "metadata": {},
          "execution_count": 4
        }
      ]
    },
    {
      "cell_type": "code",
      "source": [
        "students_df.isnull().sum()\n",
        "students_df.info()\n",
        "students_df.duplicated()"
      ],
      "metadata": {
        "id": "z87mQxHqQ9fP",
        "colab": {
          "base_uri": "https://localhost:8080/",
          "height": 1000
        },
        "outputId": "6d4fbb02-315f-428b-8919-8bb2ee5706fc"
      },
      "execution_count": 5,
      "outputs": [
        {
          "output_type": "stream",
          "name": "stdout",
          "text": [
            "<class 'pandas.core.frame.DataFrame'>\n",
            "RangeIndex: 395 entries, 0 to 394\n",
            "Data columns (total 33 columns):\n",
            " #   Column      Non-Null Count  Dtype \n",
            "---  ------      --------------  ----- \n",
            " 0   school      395 non-null    object\n",
            " 1   sex         395 non-null    object\n",
            " 2   age         395 non-null    int64 \n",
            " 3   address     395 non-null    object\n",
            " 4   famsize     395 non-null    object\n",
            " 5   Pstatus     395 non-null    object\n",
            " 6   Medu        395 non-null    int64 \n",
            " 7   Fedu        395 non-null    int64 \n",
            " 8   Mjob        395 non-null    object\n",
            " 9   Fjob        395 non-null    object\n",
            " 10  reason      395 non-null    object\n",
            " 11  guardian    395 non-null    object\n",
            " 12  traveltime  395 non-null    int64 \n",
            " 13  studytime   395 non-null    int64 \n",
            " 14  failures    395 non-null    int64 \n",
            " 15  schoolsup   395 non-null    object\n",
            " 16  famsup      395 non-null    object\n",
            " 17  paid        395 non-null    object\n",
            " 18  activities  395 non-null    object\n",
            " 19  nursery     395 non-null    object\n",
            " 20  higher      395 non-null    object\n",
            " 21  internet    395 non-null    object\n",
            " 22  romantic    395 non-null    object\n",
            " 23  famrel      395 non-null    int64 \n",
            " 24  freetime    395 non-null    int64 \n",
            " 25  goout       395 non-null    int64 \n",
            " 26  Dalc        395 non-null    int64 \n",
            " 27  Walc        395 non-null    int64 \n",
            " 28  health      395 non-null    int64 \n",
            " 29  absences    395 non-null    int64 \n",
            " 30  G1          395 non-null    int64 \n",
            " 31  G2          395 non-null    int64 \n",
            " 32  G3          395 non-null    int64 \n",
            "dtypes: int64(16), object(17)\n",
            "memory usage: 102.0+ KB\n"
          ]
        },
        {
          "output_type": "execute_result",
          "data": {
            "text/plain": [
              "0      False\n",
              "1      False\n",
              "2      False\n",
              "3      False\n",
              "4      False\n",
              "       ...  \n",
              "390    False\n",
              "391    False\n",
              "392    False\n",
              "393    False\n",
              "394    False\n",
              "Length: 395, dtype: bool"
            ],
            "text/html": [
              "<div>\n",
              "<style scoped>\n",
              "    .dataframe tbody tr th:only-of-type {\n",
              "        vertical-align: middle;\n",
              "    }\n",
              "\n",
              "    .dataframe tbody tr th {\n",
              "        vertical-align: top;\n",
              "    }\n",
              "\n",
              "    .dataframe thead th {\n",
              "        text-align: right;\n",
              "    }\n",
              "</style>\n",
              "<table border=\"1\" class=\"dataframe\">\n",
              "  <thead>\n",
              "    <tr style=\"text-align: right;\">\n",
              "      <th></th>\n",
              "      <th>0</th>\n",
              "    </tr>\n",
              "  </thead>\n",
              "  <tbody>\n",
              "    <tr>\n",
              "      <th>0</th>\n",
              "      <td>False</td>\n",
              "    </tr>\n",
              "    <tr>\n",
              "      <th>1</th>\n",
              "      <td>False</td>\n",
              "    </tr>\n",
              "    <tr>\n",
              "      <th>2</th>\n",
              "      <td>False</td>\n",
              "    </tr>\n",
              "    <tr>\n",
              "      <th>3</th>\n",
              "      <td>False</td>\n",
              "    </tr>\n",
              "    <tr>\n",
              "      <th>4</th>\n",
              "      <td>False</td>\n",
              "    </tr>\n",
              "    <tr>\n",
              "      <th>...</th>\n",
              "      <td>...</td>\n",
              "    </tr>\n",
              "    <tr>\n",
              "      <th>390</th>\n",
              "      <td>False</td>\n",
              "    </tr>\n",
              "    <tr>\n",
              "      <th>391</th>\n",
              "      <td>False</td>\n",
              "    </tr>\n",
              "    <tr>\n",
              "      <th>392</th>\n",
              "      <td>False</td>\n",
              "    </tr>\n",
              "    <tr>\n",
              "      <th>393</th>\n",
              "      <td>False</td>\n",
              "    </tr>\n",
              "    <tr>\n",
              "      <th>394</th>\n",
              "      <td>False</td>\n",
              "    </tr>\n",
              "  </tbody>\n",
              "</table>\n",
              "<p>395 rows × 1 columns</p>\n",
              "</div><br><label><b>dtype:</b> bool</label>"
            ]
          },
          "metadata": {},
          "execution_count": 5
        }
      ]
    },
    {
      "cell_type": "code",
      "source": [
        "fig = plt.figure(figsize=(18, 10))\n",
        "gs = fig.add_gridspec(2, 2, height_ratios=[1, 1.2])\n",
        "\n",
        "# Gráfico G1\n",
        "ax1 = fig.add_subplot(gs[0, 0])\n",
        "plt.hist(students_df['age'], bins=30, alpha=0.7)\n",
        "\n",
        "# Gráfico G2\n",
        "ax2 = fig.add_subplot(gs[0, 1])\n",
        "plt.hist(students_df['G1'], bins=30, color='yellow')\n",
        "\n",
        "# Gráfico G3 ocupa linha inferior inteira\n",
        "ax3 = fig.add_subplot(gs[1, :])\n",
        "plt.hist(students_df['absences'], bins=30, color='orange')\n",
        "\n",
        "plt.tight_layout()\n",
        "plt.show()\n",
        "print(len(students_df['age']),len(students_df['G1']),len(students_df['absences']))"
      ],
      "metadata": {
        "colab": {
          "base_uri": "https://localhost:8080/",
          "height": 796
        },
        "id": "HQfXlrpaYjzn",
        "outputId": "0e15d784-e029-4f33-b542-7d85f56ea086"
      },
      "execution_count": 6,
      "outputs": [
        {
          "output_type": "display_data",
          "data": {
            "text/plain": [
              "<Figure size 1800x1000 with 3 Axes>"
            ],
            "image/png": "[encoded data removed]"
          },
          "metadata": {}
        },
        {
          "output_type": "stream",
          "name": "stdout",
          "text": [
            "395 395 395\n"
          ]
        }
      ]
    },
    {
      "cell_type": "markdown",
      "source": [
        "# **Rearranging the mean of the datas.**\n"
      ],
      "metadata": {
        "id": "8eyMx7bM5NTg"
      }
    },
    {
      "cell_type": "code",
      "source": [
        "n = 100\n",
        "qnt = 395\n",
        "\n",
        "def reamostragem(dados, coluna, n, qnt):\n",
        "  medias = [dados[coluna].sample(n, replace=True).mean() for _ in range(qnt)] # Como estou dispensando a utilização do índice, então\n",
        "  return medias"
      ],
      "metadata": {
        "id": "L2oR5OTp4xMs"
      },
      "execution_count": 7,
      "outputs": []
    },
    {
      "cell_type": "code",
      "source": [
        "media_idade = reamostragem(students_df, 'age', n, qnt)\n",
        "media_notaG1 = reamostragem(students_df,'G1', n, qnt)\n",
        "media_absences = reamostragem(students_df,'absences', n, qnt)"
      ],
      "metadata": {
        "id": "UFekoqqjJ9wS"
      },
      "execution_count": 8,
      "outputs": []
    },
    {
      "cell_type": "markdown",
      "source": [
        "# Now, let´s calculate the average to each data previously mentioned, to verify the aprocimation with the sample averages."
      ],
      "metadata": {
        "id": "keyncuGMvpWz"
      }
    },
    {
      "cell_type": "code",
      "source": [
        "print(\"***Médias populacionais***\")\n",
        "print(np.round(students_df['age'].mean(),5))\n",
        "print(np.round(students_df['G1'].mean(),5))\n",
        "print(np.round(students_df['absences'].mean(),5))"
      ],
      "metadata": {
        "colab": {
          "base_uri": "https://localhost:8080/"
        },
        "id": "RO5FQDnWvo5w",
        "outputId": "ed97562c-25f1-412e-c371-0597bf582cd0"
      },
      "execution_count": 9,
      "outputs": [
        {
          "output_type": "stream",
          "name": "stdout",
          "text": [
            "***Médias populacionais***\n",
            "16.6962\n",
            "10.90886\n",
            "5.70886\n"
          ]
        }
      ]
    },
    {
      "cell_type": "code",
      "source": [
        "def Average(list):\n",
        "  return sum(list)/len(list)\n",
        "\n",
        "print('***Médias amostrais***')\n",
        "\n",
        "print(np.round(Average(media_idade),5))\n",
        "print(np.round(Average(media_notaG1),5))\n",
        "print(np.round(Average(media_absences),5))"
      ],
      "metadata": {
        "colab": {
          "base_uri": "https://localhost:8080/"
        },
        "id": "4s3R6VVh8lv3",
        "outputId": "e509a6a2-de25-4b58-cf12-13a1966e9063"
      },
      "execution_count": 10,
      "outputs": [
        {
          "output_type": "stream",
          "name": "stdout",
          "text": [
            "***Médias amostrais***\n",
            "16.69841\n",
            "10.92162\n",
            "5.66603\n"
          ]
        }
      ]
    },
    {
      "cell_type": "markdown",
      "source": [
        "It's possible to verify that, once the samples obey the requirements to the LCT, the distributions of these averages was approximately normal."
      ],
      "metadata": {
        "id": "gYOYTOhw8mrj"
      }
    },
    {
      "cell_type": "code",
      "source": [
        "plt.subplots(nrows=1, ncols=3, figsize=(16,6))\n",
        "plt.subplot(131)\n",
        "plt.hist(media_idade, bins=30, alpha=0.7)\n",
        "plt.subplot(132)\n",
        "plt.hist(media_notaG1, bins=30, color='yellow')\n",
        "plt.subplot(133)\n",
        "plt.hist(media_absences, bins=30, alpha=0.7, color='red')\n",
        "\n",
        "plt.show()"
      ],
      "metadata": {
        "colab": {
          "base_uri": "https://localhost:8080/",
          "height": 522
        },
        "id": "6__MUgqTAZXt",
        "outputId": "080e0aa7-9aef-4fbe-fb46-ea2c09c65edf"
      },
      "execution_count": 11,
      "outputs": [
        {
          "output_type": "display_data",
          "data": {
            "text/plain": [
              "<Figure size 1600x600 with 3 Axes>"
            ],
            "image/png": "[encoded data removed]"
          },
          "metadata": {}
        }
      ]
    },
    {
      "cell_type": "code",
      "source": [
        "medNotaG1 = pd.DataFrame({'media_notaG1':media_notaG1})\n",
        "medNotaG1"
      ],
      "metadata": {
        "id": "f5c5BOK577vG",
        "colab": {
          "base_uri": "https://localhost:8080/",
          "height": 423
        },
        "outputId": "82fa74c2-72f9-4f1d-a6ad-bf54f7a64706"
      },
      "execution_count": 12,
      "outputs": [
        {
          "output_type": "execute_result",
          "data": {
            "text/plain": [
              "     media_notaG1\n",
              "0           11.47\n",
              "1           10.88\n",
              "2           10.62\n",
              "3           11.00\n",
              "4           10.46\n",
              "..            ...\n",
              "390         10.97\n",
              "391         10.65\n",
              "392         11.02\n",
              "393         11.00\n",
              "394         10.71\n",
              "\n",
              "[395 rows x 1 columns]"
            ],
            "text/html": [
              "\n",
              "  <div id=\"df-20488916-79d5-44a4-81f9-e86092e6eeb1\" class=\"colab-df-container\">\n",
              "    <div>\n",
              "<style scoped>\n",
              "    .dataframe tbody tr th:only-of-type {\n",
              "        vertical-align: middle;\n",
              "    }\n",
              "\n",
              "    .dataframe tbody tr th {\n",
              "        vertical-align: top;\n",
              "    }\n",
              "\n",
              "    .dataframe thead th {\n",
              "        text-align: right;\n",
              "    }\n",
              "</style>\n",
              "<table border=\"1\" class=\"dataframe\">\n",
              "  <thead>\n",
              "    <tr style=\"text-align: right;\">\n",
              "      <th></th>\n",
              "      <th>media_notaG1</th>\n",
              "    </tr>\n",
              "  </thead>\n",
              "  <tbody>\n",
              "    <tr>\n",
              "      <th>0</th>\n",
              "      <td>11.47</td>\n",
              "    </tr>\n",
              "    <tr>\n",
              "      <th>1</th>\n",
              "      <td>10.88</td>\n",
              "    </tr>\n",
              "    <tr>\n",
              "      <th>2</th>\n",
              "      <td>10.62</td>\n",
              "    </tr>\n",
              "    <tr>\n",
              "      <th>3</th>\n",
              "      <td>11.00</td>\n",
              "    </tr>\n",
              "    <tr>\n",
              "      <th>4</th>\n",
              "      <td>10.46</td>\n",
              "    </tr>\n",
              "    <tr>\n",
              "      <th>...</th>\n",
              "      <td>...</td>\n",
              "    </tr>\n",
              "    <tr>\n",
              "      <th>390</th>\n",
              "      <td>10.97</td>\n",
              "    </tr>\n",
              "    <tr>\n",
              "      <th>391</th>\n",
              "      <td>10.65</td>\n",
              "    </tr>\n",
              "    <tr>\n",
              "      <th>392</th>\n",
              "      <td>11.02</td>\n",
              "    </tr>\n",
              "    <tr>\n",
              "      <th>393</th>\n",
              "      <td>11.00</td>\n",
              "    </tr>\n",
              "    <tr>\n",
              "      <th>394</th>\n",
              "      <td>10.71</td>\n",
              "    </tr>\n",
              "  </tbody>\n",
              "</table>\n",
              "<p>395 rows × 1 columns</p>\n",
              "</div>\n",
              "    <div class=\"colab-df-buttons\">\n",
              "\n",
              "  <div class=\"colab-df-container\">\n",
              "    <button class=\"colab-df-convert\" onclick=\"convertToInteractive('df-20488916-79d5-44a4-81f9-e86092e6eeb1')\"\n",
              "            title=\"Convert this dataframe to an interactive table.\"\n",
              "            style=\"display:none;\">\n",
              "\n",
              "  <svg xmlns=\"http://www.w3.org/2000/svg\" height=\"24px\" viewBox=\"0 -960 960 960\">\n",
              "    <path d=\"M120-120v-720h720v720H120Zm60-500h600v-160H180v160Zm220 220h160v-160H400v160Zm0 220h160v-160H400v160ZM180-400h160v-160H180v160Zm440 0h160v-160H620v160ZM180-180h160v-160H180v160Zm440 0h160v-160H620v160Z\"/>\n",
              "  </svg>\n",
              "    </button>\n",
              "\n",
              "  <style>\n",
              "    .colab-df-container {\n",
              "      display:flex;\n",
              "      gap: 12px;\n",
              "    }\n",
              "\n",
              "    .colab-df-convert {\n",
              "      background-color: #E8F0FE;\n",
              "      border: none;\n",
              "      border-radius: 50%;\n",
              "      cursor: pointer;\n",
              "      display: none;\n",
              "      fill: #1967D2;\n",
              "      height: 32px;\n",
              "      padding: 0 0 0 0;\n",
              "      width: 32px;\n",
              "    }\n",
              "\n",
              "    .colab-df-convert:hover {\n",
              "      background-color: #E2EBFA;\n",
              "      box-shadow: 0px 1px 2px rgba(60, 64, 67, 0.3), 0px 1px 3px 1px rgba(60, 64, 67, 0.15);\n",
              "      fill: #174EA6;\n",
              "    }\n",
              "\n",
              "    .colab-df-buttons div {\n",
              "      margin-bottom: 4px;\n",
              "    }\n",
              "\n",
              "    [theme=dark] .colab-df-convert {\n",
              "      background-color: #3B4455;\n",
              "      fill: #D2E3FC;\n",
              "    }\n",
              "\n",
              "    [theme=dark] .colab-df-convert:hover {\n",
              "      background-color: #434B5C;\n",
              "      box-shadow: 0px 1px 3px 1px rgba(0, 0, 0, 0.15);\n",
              "      filter: drop-shadow(0px 1px 2px rgba(0, 0, 0, 0.3));\n",
              "      fill: #FFFFFF;\n",
              "    }\n",
              "  </style>\n",
              "\n",
              "    <script>\n",
              "      const buttonEl =\n",
              "        document.querySelector('#df-20488916-79d5-44a4-81f9-e86092e6eeb1 button.colab-df-convert');\n",
              "      buttonEl.style.display =\n",
              "        google.colab.kernel.accessAllowed ? 'block' : 'none';\n",
              "\n",
              "      async function convertToInteractive(key) {\n",
              "        const element = document.querySelector('#df-20488916-79d5-44a4-81f9-e86092e6eeb1');\n",
              "        const dataTable =\n",
              "          await google.colab.kernel.invokeFunction('convertToInteractive',\n",
              "                                                    [key], {});\n",
              "        if (!dataTable) return;\n",
              "\n",
              "        const docLinkHtml = 'Like what you see? Visit the ' +\n",
              "          '<a target=\"_blank\" href=https://colab.research.google.com/notebooks/data_table.ipynb>data table notebook</a>'\n",
              "          + ' to learn more about interactive tables.';\n",
              "        element.innerHTML = '';\n",
              "        dataTable['output_type'] = 'display_data';\n",
              "        await google.colab.output.renderOutput(dataTable, element);\n",
              "        const docLink = document.createElement('div');\n",
              "        docLink.innerHTML = docLinkHtml;\n",
              "        element.appendChild(docLink);\n",
              "      }\n",
              "    </script>\n",
              "  </div>\n",
              "\n",
              "\n",
              "    <div id=\"df-0665665f-66fb-42f5-9970-6999c9bcb85f\">\n",
              "      <button class=\"colab-df-quickchart\" onclick=\"quickchart('df-0665665f-66fb-42f5-9970-6999c9bcb85f')\"\n",
              "                title=\"Suggest charts\"\n",
              "                style=\"display:none;\">\n",
              "\n",
              "<svg xmlns=\"http://www.w3.org/2000/svg\" height=\"24px\"viewBox=\"0 0 24 24\"\n",
              "     width=\"24px\">\n",
              "    <g>\n",
              "        <path d=\"M19 3H5c-1.1 0-2 .9-2 2v14c0 1.1.9 2 2 2h14c1.1 0 2-.9 2-2V5c0-1.1-.9-2-2-2zM9 17H7v-7h2v7zm4 0h-2V7h2v10zm4 0h-2v-4h2v4z\"/>\n",
              "    </g>\n",
              "</svg>\n",
              "      </button>\n",
              "\n",
              "<style>\n",
              "  .colab-df-quickchart {\n",
              "      --bg-color: #E8F0FE;\n",
              "      --fill-color: #1967D2;\n",
              "      --hover-bg-color: #E2EBFA;\n",
              "      --hover-fill-color: #174EA6;\n",
              "      --disabled-fill-color: #AAA;\n",
              "      --disabled-bg-color: #DDD;\n",
              "  }\n",
              "\n",
              "  [theme=dark] .colab-df-quickchart {\n",
              "      --bg-color: #3B4455;\n",
              "      --fill-color: #D2E3FC;\n",
              "      --hover-bg-color: #434B5C;\n",
              "      --hover-fill-color: #FFFFFF;\n",
              "      --disabled-bg-color: #3B4455;\n",
              "      --disabled-fill-color: #666;\n",
              "  }\n",
              "\n",
              "  .colab-df-quickchart {\n",
              "    background-color: var(--bg-color);\n",
              "    border: none;\n",
              "    border-radius: 50%;\n",
              "    cursor: pointer;\n",
              "    display: none;\n",
              "    fill: var(--fill-color);\n",
              "    height: 32px;\n",
              "    padding: 0;\n",
              "    width: 32px;\n",
              "  }\n",
              "\n",
              "  .colab-df-quickchart:hover {\n",
              "    background-color: var(--hover-bg-color);\n",
              "    box-shadow: 0 1px 2px rgba(60, 64, 67, 0.3), 0 1px 3px 1px rgba(60, 64, 67, 0.15);\n",
              "    fill: var(--button-hover-fill-color);\n",
              "  }\n",
              "\n",
              "  .colab-df-quickchart-complete:disabled,\n",
              "  .colab-df-quickchart-complete:disabled:hover {\n",
              "    background-color: var(--disabled-bg-color);\n",
              "    fill: var(--disabled-fill-color);\n",
              "    box-shadow: none;\n",
              "  }\n",
              "\n",
              "  .colab-df-spinner {\n",
              "    border: 2px solid var(--fill-color);\n",
              "    border-color: transparent;\n",
              "    border-bottom-color: var(--fill-color);\n",
              "    animation:\n",
              "      spin 1s steps(1) infinite;\n",
              "  }\n",
              "\n",
              "  @keyframes spin {\n",
              "    0% {\n",
              "      border-color: transparent;\n",
              "      border-bottom-color: var(--fill-color);\n",
              "      border-left-color: var(--fill-color);\n",
              "    }\n",
              "    20% {\n",
              "      border-color: transparent;\n",
              "      border-left-color: var(--fill-color);\n",
              "      border-top-color: var(--fill-color);\n",
              "    }\n",
              "    30% {\n",
              "      border-color: transparent;\n",
              "      border-left-color: var(--fill-color);\n",
              "      border-top-color: var(--fill-color);\n",
              "      border-right-color: var(--fill-color);\n",
              "    }\n",
              "    40% {\n",
              "      border-color: transparent;\n",
              "      border-right-color: var(--fill-color);\n",
              "      border-top-color: var(--fill-color);\n",
              "    }\n",
              "    60% {\n",
              "      border-color: transparent;\n",
              "      border-right-color: var(--fill-color);\n",
              "    }\n",
              "    80% {\n",
              "      border-color: transparent;\n",
              "      border-right-color: var(--fill-color);\n",
              "      border-bottom-color: var(--fill-color);\n",
              "    }\n",
              "    90% {\n",
              "      border-color: transparent;\n",
              "      border-bottom-color: var(--fill-color);\n",
              "    }\n",
              "  }\n",
              "</style>\n",
              "\n",
              "      <script>\n",
              "        async function quickchart(key) {\n",
              "          const quickchartButtonEl =\n",
              "            document.querySelector('#' + key + ' button');\n",
              "          quickchartButtonEl.disabled = true;  // To prevent multiple clicks.\n",
              "          quickchartButtonEl.classList.add('colab-df-spinner');\n",
              "          try {\n",
              "            const charts = await google.colab.kernel.invokeFunction(\n",
              "                'suggestCharts', [key], {});\n",
              "          } catch (error) {\n",
              "            console.error('Error during call to suggestCharts:', error);\n",
              "          }\n",
              "          quickchartButtonEl.classList.remove('colab-df-spinner');\n",
              "          quickchartButtonEl.classList.add('colab-df-quickchart-complete');\n",
              "        }\n",
              "        (() => {\n",
              "          let quickchartButtonEl =\n",
              "            document.querySelector('#df-0665665f-66fb-42f5-9970-6999c9bcb85f button');\n",
              "          quickchartButtonEl.style.display =\n",
              "            google.colab.kernel.accessAllowed ? 'block' : 'none';\n",
              "        })();\n",
              "      </script>\n",
              "    </div>\n",
              "\n",
              "  <div id=\"id_eedc8a9a-1aa1-43f1-ad70-aec134849bd5\">\n",
              "    <style>\n",
              "      .colab-df-generate {\n",
              "        background-color: #E8F0FE;\n",
              "        border: none;\n",
              "        border-radius: 50%;\n",
              "        cursor: pointer;\n",
              "        display: none;\n",
              "        fill: #1967D2;\n",
              "        height: 32px;\n",
              "        padding: 0 0 0 0;\n",
              "        width: 32px;\n",
              "      }\n",
              "\n",
              "      .colab-df-generate:hover {\n",
              "        background-color: #E2EBFA;\n",
              "        box-shadow: 0px 1px 2px rgba(60, 64, 67, 0.3), 0px 1px 3px 1px rgba(60, 64, 67, 0.15);\n",
              "        fill: #174EA6;\n",
              "      }\n",
              "\n",
              "      [theme=dark] .colab-df-generate {\n",
              "        background-color: #3B4455;\n",
              "        fill: #D2E3FC;\n",
              "      }\n",
              "\n",
              "      [theme=dark] .colab-df-generate:hover {\n",
              "        background-color: #434B5C;\n",
              "        box-shadow: 0px 1px 3px 1px rgba(0, 0, 0, 0.15);\n",
              "        filter: drop-shadow(0px 1px 2px rgba(0, 0, 0, 0.3));\n",
              "        fill: #FFFFFF;\n",
              "      }\n",
              "    </style>\n",
              "    <button class=\"colab-df-generate\" onclick=\"generateWithVariable('medNotaG1')\"\n",
              "            title=\"Generate code using this dataframe.\"\n",
              "            style=\"display:none;\">\n",
              "\n",
              "  <svg xmlns=\"http://www.w3.org/2000/svg\" height=\"24px\"viewBox=\"0 0 24 24\"\n",
              "       width=\"24px\">\n",
              "    <path d=\"M7,19H8.4L18.45,9,17,7.55,7,17.6ZM5,21V16.75L18.45,3.32a2,2,0,0,1,2.83,0l1.4,1.43a1.91,1.91,0,0,1,.58,1.4,1.91,1.91,0,0,1-.58,1.4L9.25,21ZM18.45,9,17,7.55Zm-12,3A5.31,5.31,0,0,0,4.9,8.1,5.31,5.31,0,0,0,1,6.5,5.31,5.31,0,0,0,4.9,4.9,5.31,5.31,0,0,0,6.5,1,5.31,5.31,0,0,0,8.1,4.9,5.31,5.31,0,0,0,12,6.5,5.46,5.46,0,0,0,6.5,12Z\"/>\n",
              "  </svg>\n",
              "    </button>\n",
              "    <script>\n",
              "      (() => {\n",
              "      const buttonEl =\n",
              "        document.querySelector('#id_eedc8a9a-1aa1-43f1-ad70-aec134849bd5 button.colab-df-generate');\n",
              "      buttonEl.style.display =\n",
              "        google.colab.kernel.accessAllowed ? 'block' : 'none';\n",
              "\n",
              "      buttonEl.onclick = () => {\n",
              "        google.colab.notebook.generateWithVariable('medNotaG1');\n",
              "      }\n",
              "      })();\n",
              "    </script>\n",
              "  </div>\n",
              "\n",
              "    </div>\n",
              "  </div>\n"
            ],
            "application/vnd.google.colaboratory.intrinsic+json": {
              "type": "dataframe",
              "variable_name": "medNotaG1",
              "summary": "{\n  \"name\": \"medNotaG1\",\n  \"rows\": 395,\n  \"fields\": [\n    {\n      \"column\": \"media_notaG1\",\n      \"properties\": {\n        \"dtype\": \"number\",\n        \"std\": 0.3282818022991039,\n        \"min\": 9.92,\n        \"max\": 11.82,\n        \"num_unique_values\": 129,\n        \"samples\": [\n          11.17,\n          10.73,\n          10.95\n        ],\n        \"semantic_type\": \"\",\n        \"description\": \"\"\n      }\n    }\n  ]\n}"
            }
          },
          "metadata": {},
          "execution_count": 12
        }
      ]
    },
    {
      "cell_type": "markdown",
      "source": [
        "## Ao se verificar a média das notas para uma nova amostra, tem-se que o valor resultante foi de: 8."
      ],
      "metadata": {
        "id": "PauY6mZ2KunR"
      }
    },
    {
      "cell_type": "code",
      "source": [
        "# Vamos verificar se a média das amostras\n",
        "# é equivalente a média da população.\n",
        "\n",
        "\n",
        "media_das_medias = medNotaG1['media_notaG1'].mean()\n",
        "EP = medNotaG1['media_notaG1'].std()\n",
        "\n",
        "print('*** Medidas amostrais ***')\n",
        "print(f'Média das amostras: {media_das_medias:.5f}')\n",
        "print(f'Erro padrão: {EP:.5f}')"
      ],
      "metadata": {
        "colab": {
          "base_uri": "https://localhost:8080/"
        },
        "id": "9BcO56wGEY7d",
        "outputId": "e52ef5b2-1d92-4588-e856-d8338636590b"
      },
      "execution_count": 13,
      "outputs": [
        {
          "output_type": "stream",
          "name": "stdout",
          "text": [
            "*** Medidas amostrais ***\n",
            "Média das amostras: 10.92162\n",
            "Erro padrão: 0.32828\n"
          ]
        }
      ]
    },
    {
      "cell_type": "code",
      "source": [
        "11-3*EP"
      ],
      "metadata": {
        "id": "Z4F4BytjGXIe",
        "colab": {
          "base_uri": "https://localhost:8080/"
        },
        "outputId": "d30082c5-4a33-4cb5-9c34-232adf71c5c1"
      },
      "execution_count": 14,
      "outputs": [
        {
          "output_type": "execute_result",
          "data": {
            "text/plain": [
              "10.015154593102688"
            ]
          },
          "metadata": {},
          "execution_count": 14
        }
      ]
    },
    {
      "cell_type": "code",
      "source": [
        "plt.hist(media_notaG1, bins = 30, alpha=0.7)\n",
        "plt.axvline(media_das_medias, color='yellow')\n",
        "plt.axvline(media_das_medias-3*EP, color='red')\n",
        "plt.axvline(media_das_medias+3*EP, color='red')\n",
        "plt.show()"
      ],
      "metadata": {
        "colab": {
          "base_uri": "https://localhost:8080/",
          "height": 430
        },
        "id": "5RZffQcEUaEJ",
        "outputId": "4454b53a-b27d-4f3f-e8a5-977ff172a68a"
      },
      "execution_count": 15,
      "outputs": [
        {
          "output_type": "display_data",
          "data": {
            "text/plain": [
              "<Figure size 640x480 with 1 Axes>"
            ],
            "image/png": "[encoded data removed]"
          },
          "metadata": {}
        }
      ]
    },
    {
      "cell_type": "code",
      "source": [
        "qnt_obs = medNotaG1[(medNotaG1 > media_das_medias-3*EP) & (medNotaG1 < media_das_medias+3*EP)]"
      ],
      "metadata": {
        "id": "hG6ABrs0VGoL"
      },
      "execution_count": 16,
      "outputs": []
    },
    {
      "cell_type": "markdown",
      "source": [
        "# **About 99.49% of the data falls within the defined area.**\n",
        "> This means that I could ask the principal or other school administrators to take a closer look at the learning methodology, for example.\n",
        "\n",
        "> The new average falls outside the majority of the data, with an accuracy of 99.49%."
      ],
      "metadata": {
        "id": "fpQ6synTruwU"
      }
    },
    {
      "cell_type": "code",
      "source": [
        "percObs = (qnt_obs.count()/medNotaG1.count())*100\n",
        "print(percObs)"
      ],
      "metadata": {
        "colab": {
          "base_uri": "https://localhost:8080/"
        },
        "id": "bqerlLuLWVb1",
        "outputId": "93b2d8ed-1cb5-4024-fa7d-1c09e9e47513"
      },
      "execution_count": 17,
      "outputs": [
        {
          "output_type": "stream",
          "name": "stdout",
          "text": [
            "media_notaG1    99.746835\n",
            "dtype: float64\n"
          ]
        }
      ]
    },
    {
      "cell_type": "markdown",
      "source": [
        "# In that way, let´s define a confidence interval: 95%."
      ],
      "metadata": {
        "id": "A1kpGFttuexJ"
      }
    },
    {
      "cell_type": "code",
      "source": [
        "from scipy import stats\n",
        "students_df['G1']\n",
        "interConf = 0.95"
      ],
      "metadata": {
        "id": "iB-enVjWu_Wv"
      },
      "execution_count": 18,
      "outputs": []
    },
    {
      "cell_type": "code",
      "source": [
        "media = students_df['G1'].mean()\n",
        "desvPad = students_df['G1'].std()\n",
        "tam = len(students_df['G1'])"
      ],
      "metadata": {
        "id": "V8wg5yRmv0Qz"
      },
      "execution_count": 19,
      "outputs": []
    },
    {
      "cell_type": "code",
      "source": [
        "intConf = stats.norm.interval(interConf, loc=media, scale=desvPad/np.sqrt(tam))"
      ],
      "metadata": {
        "id": "4kCIElSmwt7A"
      },
      "execution_count": 20,
      "outputs": []
    },
    {
      "cell_type": "markdown",
      "source": [
        "Veryfing the limites from this interval, we have to:\n",
        "\n",
        "> Use the stats function from the scipy bib.\n",
        "\n",
        "> Declare three parameters inside of its:\n",
        "\n",
        "* The average of the population, that will be used as reference.\n",
        "* The confidence interval, to calculate the number os SE.\n",
        "* Finally, the standard error."
      ],
      "metadata": {
        "id": "yphbPd9H6DNT"
      }
    },
    {
      "cell_type": "code",
      "source": [
        "print(f'Intervalo de Confiança(95%)\\n\\nLimite inferior:{intConf[0]:.4f}\\nLimite superior:{intConf[1]:.4f}')"
      ],
      "metadata": {
        "colab": {
          "base_uri": "https://localhost:8080/"
        },
        "id": "BltdhaSO46dZ",
        "outputId": "8f84b65d-1612-48ea-97f4-77f2dc911045"
      },
      "execution_count": 21,
      "outputs": [
        {
          "output_type": "stream",
          "name": "stdout",
          "text": [
            "Intervalo de Confiança(95%)\n",
            "\n",
            "Limite inferior:10.5815\n",
            "Limite superior:11.2362\n"
          ]
        }
      ]
    },
    {
      "cell_type": "markdown",
      "source": [
        "# **Aplying hypothesis test**\n",
        "\n",
        "* Let´s verify if, with a new methodoly, we have grades more better than the last one.\n",
        "* To realize this test, we obtain a new population datas.\n",
        "* Are the grades equal or different from 15?"
      ],
      "metadata": {
        "id": "BU49oUz68lO8"
      }
    },
    {
      "cell_type": "code",
      "source": [
        "hipothesys = 9"
      ],
      "metadata": {
        "id": "o4HgvGIK85b7"
      },
      "execution_count": 22,
      "outputs": []
    },
    {
      "cell_type": "markdown",
      "source": [
        "# The hipothesys are:\n",
        "\n",
        "> $H_0: μ ≥ 9$\n",
        "\n",
        "> $H_1: μ < 9$\n"
      ],
      "metadata": {
        "id": "1OrcpfuQ-UYj"
      }
    },
    {
      "cell_type": "markdown",
      "source": [
        "eu tenho que obter novos dados de notas dos alunos: Pode ser as notas do próximo semestre."
      ],
      "metadata": {
        "id": "mRYPJ7D7_chA"
      }
    },
    {
      "cell_type": "code",
      "source": [
        "novaNota = students_df['G2']\n",
        "\n",
        "novaNotaMed = students_df['G2'].mean()\n",
        "novaNotaMed"
      ],
      "metadata": {
        "colab": {
          "base_uri": "https://localhost:8080/"
        },
        "id": "5P6lL6mbLM14",
        "outputId": "9d68821c-0667-4b69-dc47-5694200a060b"
      },
      "execution_count": 23,
      "outputs": [
        {
          "output_type": "execute_result",
          "data": {
            "text/plain": [
              "np.float64(10.713924050632912)"
            ]
          },
          "metadata": {},
          "execution_count": 23
        }
      ]
    },
    {
      "cell_type": "code",
      "source": [
        "confianca = 0.95\n",
        "desvioPadPop = 3\n",
        "tamAmos = len(novaNota)"
      ],
      "metadata": {
        "id": "BneUThh2NZp2"
      },
      "execution_count": 24,
      "outputs": []
    },
    {
      "cell_type": "code",
      "source": [
        "t_stat, p_value = stats.ttest_1samp(novaNota, hipothesys)\n",
        "print(f'Estatística de teste: {t_stat}\\nValor P: {p_value}')"
      ],
      "metadata": {
        "colab": {
          "base_uri": "https://localhost:8080/"
        },
        "id": "VjqB1xykuwD9",
        "outputId": "71ef27ba-9805-402c-d933-69ad89bbb638"
      },
      "execution_count": 25,
      "outputs": [
        {
          "output_type": "stream",
          "name": "stdout",
          "text": [
            "Estatística de teste: 9.055835329312929\n",
            "Valor P: 6.359116055003273e-18\n"
          ]
        }
      ]
    },
    {
      "cell_type": "markdown",
      "source": [
        "From p-valor, we have that it is greater than alfa (0,05), because of this we have to reject the null hypothesis.\n",
        "\n",
        "> $α$ is the **limit** of probability to observe something rare.\n",
        "\n",
        "> How p-value exceeded this value,we have to accept the null hipothesys, because: We don´t have sufficient reasonings to reject the null hipothesys"
      ],
      "metadata": {
        "id": "4JaHf5Ye0lSI"
      }
    },
    {
      "cell_type": "code",
      "source": [
        "if (t_stat<0) and (p_value/2<0.05):\n",
        "  print('Hipótese nula rejeitada')\n",
        "else:\n",
        "  print('Hipótese nula aceita')"
      ],
      "metadata": {
        "colab": {
          "base_uri": "https://localhost:8080/"
        },
        "id": "ehpv6hD9yMxz",
        "outputId": "8f94684e-0b85-4f0b-e43d-2c0a85b10185"
      },
      "execution_count": 26,
      "outputs": [
        {
          "output_type": "stream",
          "name": "stdout",
          "text": [
            "Hipótese nula aceita\n"
          ]
        }
      ]
    },
    {
      "cell_type": "code",
      "source": [
        "import pandas as pd\n",
        "import numpy as np\n",
        "\n",
        "np.random.seed(42)  # Para reprodutibilidade\n",
        "\n",
        "# Gerando notas normalmente distribuídas para Turma A e B\n",
        "notas_turma_A = np.round(np.random.normal(loc=7.0, scale=1.5, size=20), 2)\n",
        "notas_turma_B = np.round(np.random.normal(loc=6.5, scale=1.8, size=20), 2)\n",
        "\n",
        "# Limitando os valores entre 0 e 10\n",
        "notas_turma_A = np.clip(notas_turma_A, 0, 10)\n",
        "notas_turma_B = np.clip(notas_turma_B, 0, 10)\n",
        "\n",
        "df_turma_A = pd.DataFrame({'Aluno': [f'A{i+1}' for i in range(20)], 'Nota': notas_turma_A})\n",
        "df_turma_B = pd.DataFrame({'Aluno': [f'B{i+1}' for i in range(20)], 'Nota': notas_turma_B})\n",
        "\n",
        "print(\"Notas da Turma A (Normal aproximada):\")\n",
        "print(df_turma_A)\n",
        "\n",
        "print(\"\\nNotas da Turma B (Normal aproximada):\")\n",
        "print(df_turma_B)\n"
      ],
      "metadata": {
        "colab": {
          "base_uri": "https://localhost:8080/"
        },
        "id": "8wKTDL2nuptU",
        "outputId": "57ae7602-de4c-44c6-8289-a5cebb210e97"
      },
      "execution_count": 27,
      "outputs": [
        {
          "output_type": "stream",
          "name": "stdout",
          "text": [
            "Notas da Turma A (Normal aproximada):\n",
            "   Aluno  Nota\n",
            "0     A1  7.75\n",
            "1     A2  6.79\n",
            "2     A3  7.97\n",
            "3     A4  9.28\n",
            "4     A5  6.65\n",
            "5     A6  6.65\n",
            "6     A7  9.37\n",
            "7     A8  8.15\n",
            "8     A9  6.30\n",
            "9    A10  7.81\n",
            "10   A11  6.30\n",
            "11   A12  6.30\n",
            "12   A13  7.36\n",
            "13   A14  4.13\n",
            "14   A15  4.41\n",
            "15   A16  6.16\n",
            "16   A17  5.48\n",
            "17   A18  7.47\n",
            "18   A19  5.64\n",
            "19   A20  4.88\n",
            "\n",
            "Notas da Turma B (Normal aproximada):\n",
            "   Aluno  Nota\n",
            "0     B1  9.14\n",
            "1     B2  6.09\n",
            "2     B3  6.62\n",
            "3     B4  3.94\n",
            "4     B5  5.52\n",
            "5     B6  6.70\n",
            "6     B7  4.43\n",
            "7     B8  7.18\n",
            "8     B9  5.42\n",
            "9    B10  5.97\n",
            "10   B11  5.42\n",
            "11   B12  9.83\n",
            "12   B13  6.48\n",
            "13   B14  4.60\n",
            "14   B15  7.98\n",
            "15   B16  4.30\n",
            "16   B17  6.88\n",
            "17   B18  2.97\n",
            "18   B19  4.11\n",
            "19   B20  6.85\n"
          ]
        }
      ]
    },
    {
      "cell_type": "markdown",
      "source": [
        "# Test for two independent samples: Let´s verify what average is bigger.\n",
        "\n",
        "> The first are associated with the old metodology.\n",
        "\n",
        "> The second, with the new metodology.\n",
        "\n",
        "> How this new set of samples are small, we aply the ttest to verify the following hipothesys:\n",
        "\n",
        "> $H_0: \\mu_1 \\leq \\mu_2 $\n",
        "\n",
        "> $H_0: \\mu_1 > \\mu_2 $\n"
      ],
      "metadata": {
        "id": "9uTUAFaP4JkA"
      }
    },
    {
      "cell_type": "code",
      "source": [
        "plt.hist(df_turma_A['Nota'], color=\"blue\", alpha=0.7, label='Notas da primeira turma')\n",
        "plt.hist(df_turma_B['Nota'], color='orange', alpha=0.7, label='Notas da segunda turma')\n",
        "plt.xlabel('Notas')\n",
        "plt.ylabel('Frequência')\n",
        "plt.title('Distribuição das notas dos alunos')\n",
        "plt.legend()\n",
        "plt.show()"
      ],
      "metadata": {
        "colab": {
          "base_uri": "https://localhost:8080/",
          "height": 472
        },
        "id": "GLCf8QszzZkP",
        "outputId": "d3e5579c-2288-4d48-a6e1-200fe8fd5682"
      },
      "execution_count": 28,
      "outputs": [
        {
          "output_type": "display_data",
          "data": {
            "text/plain": [
              "<Figure size 640x480 with 1 Axes>"
            ],
            "image/png": "[encoded data removed]"
          },
          "metadata": {}
        }
      ]
    },
    {
      "cell_type": "code",
      "source": [
        "from scipy.stats import ttest_ind"
      ],
      "metadata": {
        "id": "pWTxbRDE2Hnl"
      },
      "execution_count": 29,
      "outputs": []
    },
    {
      "cell_type": "code",
      "source": [
        "stats, p_value = ttest_ind(df_turma_A['Nota'], df_turma_B['Nota'], alternative='greater')"
      ],
      "metadata": {
        "id": "35RJ3Nxz2RMJ"
      },
      "execution_count": 30,
      "outputs": []
    },
    {
      "cell_type": "code",
      "source": [
        "if (stats < 0) and ( p_value/2<0,5):\n",
        "  print(\"A hipótese nula deve ser rejeitada\")\n",
        "else:\n",
        "  print('A hipótese nula deve ser aceita')"
      ],
      "metadata": {
        "colab": {
          "base_uri": "https://localhost:8080/"
        },
        "id": "U2YPNUsprayr",
        "outputId": "0aec9657-0ba9-4dad-e6a7-df4c782ed0b5"
      },
      "execution_count": 31,
      "outputs": [
        {
          "output_type": "stream",
          "name": "stdout",
          "text": [
            "A hipótese nula deve ser aceita\n"
          ]
        }
      ]
    },
    {
      "cell_type": "markdown",
      "source": [
        "#**Nossa decisão pode ser alterada, dependendo do rigor com a qual a estabelecemos.**\n",
        "\n",
        "> Valor-p: Representa a possibilidade de se obter um teste t igual ou distante do observado, assumindo que a hipótese nula é verdadeira. Dito de outra forma, representa a probabilidade de observarmos uma média da amostra tão ou mais discrepante do que a hipotética.\n",
        "\n",
        "> T-stat: Represents the standard deviation numbers between the sample mean and the hypothetical average.\n",
        "\n",
        "\n"
      ],
      "metadata": {
        "id": "tfql9Ixny8cr"
      }
    },
    {
      "cell_type": "markdown",
      "source": [
        "# **Test for two paired samples:**\n",
        "\n",
        "* In a new situation, we will apply the tests in a case where we subject the same group of students to different study methodologies."
      ],
      "metadata": {
        "id": "tuhPG1BoiPDW"
      }
    },
    {
      "cell_type": "code",
      "source": [
        "# Alunos da mesma turma\n",
        "alunos = [f'Aluno_{i+1}' for i in range(20)]\n",
        "\n",
        "# Notas antes da metodologia — notas com desempenho mais baixo\n",
        "notas_antes = np.random.normal(loc=12, scale=4, size=20)\n",
        "notas_antes = np.clip(np.round(notas_antes), 1, 20).astype(int)\n",
        "\n",
        "# Notas depois da nova metodologia — melhor desempenho esperado\n",
        "melhoria = np.random.normal(loc=3, scale=2, size=20)\n",
        "notas_depois = notas_antes + np.round(melhoria)\n",
        "notas_depois = np.clip(notas_depois, 1, 20).astype(int)\n",
        "\n",
        "# Criando os DataFrames\n",
        "df_antes = pd.DataFrame({'Aluno': alunos, 'Nota_Antes': notas_antes})\n",
        "df_depois = pd.DataFrame({'Aluno': alunos, 'Nota_Depois': notas_depois})\n",
        "\n",
        "# Juntando os dados em um único DataFrame\n",
        "df_avaliacoes = pd.concat([df_antes.set_index('Aluno'), df_depois.set_index('Aluno')], axis=1).reset_index()\n",
        "\n",
        "print(df_avaliacoes)\n"
      ],
      "metadata": {
        "colab": {
          "base_uri": "https://localhost:8080/"
        },
        "id": "oBXzyioWjSX4",
        "outputId": "935bbc7d-db91-4ae2-98ef-9e58c1c1b77d"
      },
      "execution_count": 32,
      "outputs": [
        {
          "output_type": "stream",
          "name": "stdout",
          "text": [
            "       Aluno  Nota_Antes  Nota_Depois\n",
            "0    Aluno_1          15           17\n",
            "1    Aluno_2          13           16\n",
            "2    Aluno_3          12           13\n",
            "3    Aluno_4          11           12\n",
            "4    Aluno_5           6           11\n",
            "5    Aluno_6           9           15\n",
            "6    Aluno_7          10           13\n",
            "7    Aluno_8          16           20\n",
            "8    Aluno_9          13           17\n",
            "9   Aluno_10           5            7\n",
            "10  Aluno_11          13           17\n",
            "11  Aluno_12          10           16\n",
            "12  Aluno_13           9           12\n",
            "13  Aluno_14          14           20\n",
            "14  Aluno_15          16           14\n",
            "15  Aluno_16          16           20\n",
            "16  Aluno_17           9           12\n",
            "17  Aluno_18          11           13\n",
            "18  Aluno_19          13           16\n",
            "19  Aluno_20          16           15\n"
          ]
        }
      ]
    },
    {
      "cell_type": "code",
      "source": [
        "# Let's verify the median between the datas and how much they are approximated.\n",
        "\n",
        "diferenca = [b - a for a, b in zip(df_avaliacoes['Nota_Antes'], df_avaliacoes['Nota_Depois'])]\n",
        "diferenca"
      ],
      "metadata": {
        "id": "OEpCdAyJlL62",
        "colab": {
          "base_uri": "https://localhost:8080/"
        },
        "outputId": "1758d92a-d661-4d20-b302-e3cc91e76d12"
      },
      "execution_count": 33,
      "outputs": [
        {
          "output_type": "execute_result",
          "data": {
            "text/plain": [
              "[2, 3, 1, 1, 5, 6, 3, 4, 4, 2, 4, 6, 3, 6, -2, 4, 3, 2, 3, -1]"
            ]
          },
          "metadata": {},
          "execution_count": 33
        }
      ]
    },
    {
      "cell_type": "markdown",
      "source": [
        "# **Let´s apply the following test:**\n",
        "\n",
        "$ H_0: \\mu_d = 0 $\n",
        "\n",
        "$ H_1: \\mu_d > 0 $\n",
        "\n",
        "Where $μ_d$ means the average of the paired samples."
      ],
      "metadata": {
        "id": "y5gjz6OiQ1kW"
      }
    },
    {
      "cell_type": "code",
      "source": [
        "from scipy.stats import ttest_rel"
      ],
      "metadata": {
        "id": "I6yYLcRaRxwK"
      },
      "execution_count": 34,
      "outputs": []
    },
    {
      "cell_type": "code",
      "source": [
        "stats, p_valor = ttest_rel(df_avaliacoes['Nota_Depois'], df_avaliacoes['Nota_Antes'], alternative='greater')\n",
        "if p_valor/2 < 0.05:\n",
        "  print('Hipótese nula rejeitada')\n",
        "else:\n",
        "  print('Hipótese nula aceita')\n"
      ],
      "metadata": {
        "colab": {
          "base_uri": "https://localhost:8080/"
        },
        "id": "gYDowB12TS1N",
        "outputId": "6cedd65a-6875-4c81-d885-84c308b452c1"
      },
      "execution_count": 35,
      "outputs": [
        {
          "output_type": "stream",
          "name": "stdout",
          "text": [
            "Hipótese nula rejeitada\n"
          ]
        }
      ]
    },
    {
      "cell_type": "markdown",
      "source": [
        "# Now let's check, based on two small samples, whether the new methodology makes a difference if applied to another group of students."
      ],
      "metadata": {
        "id": "MlSzoZnvOdpI"
      }
    },
    {
      "cell_type": "code",
      "source": [
        "turma_a = [5,10,15,20,20,15,10,5]\n",
        "turma_b = [10,20,15,10,15,15,20,20]"
      ],
      "metadata": {
        "id": "YMLcnc2zPaKT"
      },
      "execution_count": 42,
      "outputs": []
    },
    {
      "cell_type": "code",
      "source": [
        "from scipy.stats import mannwhitneyu"
      ],
      "metadata": {
        "id": "qn0HnHiaPsh5"
      },
      "execution_count": 37,
      "outputs": []
    },
    {
      "cell_type": "markdown",
      "source": [
        "We will apply the following tests to these data groups:\n",
        "\n",
        "\n",
        "$H_0$: Equal population distribution.\n",
        "\n",
        "$H_1$: Different population distribution.\n",
        "\n",
        "\n",
        "They are: Unpaired and independent.\n"
      ],
      "metadata": {
        "id": "CtBIHYa9QcDl"
      }
    },
    {
      "cell_type": "code",
      "source": [
        "stats, p_valor = mannwhitneyu(turma_a, turma_b, alternative='two-sided')\n",
        "print(f'Estatística de teste:{stats}\\nP-valor:{p_valor}')"
      ],
      "metadata": {
        "colab": {
          "base_uri": "https://localhost:8080/"
        },
        "id": "expZgnMTQWnj",
        "outputId": "ac0fe1f9-335b-4633-f1e2-fc0c3e1a3640"
      },
      "execution_count": 43,
      "outputs": [
        {
          "output_type": "stream",
          "name": "stdout",
          "text": [
            "Estatística de teste:22.0\n",
            "P-valor:0.29956876213044537\n"
          ]
        }
      ]
    },
    {
      "cell_type": "code",
      "source": [
        "if p_valor/2 <0.05:\n",
        "  print('Rejeitar a hipótese nula')\n",
        "else:\n",
        "  print('Aceitar a hipótese nula')"
      ],
      "metadata": {
        "colab": {
          "base_uri": "https://localhost:8080/"
        },
        "id": "D_CwceasSB9R",
        "outputId": "f3129048-8ed4-44e5-fb3b-d72eeada0f9f"
      },
      "execution_count": 39,
      "outputs": [
        {
          "output_type": "stream",
          "name": "stdout",
          "text": [
            "Aceitar a hipótese nula\n"
          ]
        }
      ]
    },
    {
      "cell_type": "markdown",
      "source": [
        "# Let´s apply a test in two paired samples.\n",
        "\n",
        "# We have a group of students who slept between 5 and 6 hours a night before the first test, and by the second test, they slept more than 8 hours.\n",
        "\n",
        "# The hipothesys are:\n",
        "$H_0$: The median of the data difference is zero.\n",
        "\n",
        "$H_1$: They are not zero."
      ],
      "metadata": {
        "id": "68-xYLdcruTV"
      }
    },
    {
      "cell_type": "code",
      "source": [
        "beforeAdjust = [10,15,9,8,10,18,15,10]\n",
        "afterAdjust = [15,20,16,18,20,20,18,15]"
      ],
      "metadata": {
        "id": "yiiepKmnwoz5"
      },
      "execution_count": 45,
      "outputs": []
    },
    {
      "cell_type": "code",
      "source": [
        "from scipy.stats import wilcoxon"
      ],
      "metadata": {
        "id": "X20YL8COwftF"
      },
      "execution_count": 44,
      "outputs": []
    },
    {
      "cell_type": "code",
      "source": [
        "stats, p_valor = wilcoxon(afterAdjust, beforeAdjust, alternative='greater')\n",
        "if p_valor < 0.05:\n",
        "  print('Hipótese nula rejeitada')\n",
        "else:\n",
        "  print('Hipótese nula aceita')"
      ],
      "metadata": {
        "colab": {
          "base_uri": "https://localhost:8080/"
        },
        "id": "V-SNQfrmwjXZ",
        "outputId": "ba7fc52b-545d-4a97-8c20-1fda235f3b34"
      },
      "execution_count": 47,
      "outputs": [
        {
          "output_type": "stream",
          "name": "stdout",
          "text": [
            "Hipótese nula rejeitada\n"
          ]
        }
      ]
    },
    {
      "cell_type": "markdown",
      "source": [
        "# **In this case, we found that a good sleep schedule before taking the exam promotes better performance on the test.**"
      ],
      "metadata": {
        "id": "jg1pEgVFyTHf"
      }
    }
  ]
}